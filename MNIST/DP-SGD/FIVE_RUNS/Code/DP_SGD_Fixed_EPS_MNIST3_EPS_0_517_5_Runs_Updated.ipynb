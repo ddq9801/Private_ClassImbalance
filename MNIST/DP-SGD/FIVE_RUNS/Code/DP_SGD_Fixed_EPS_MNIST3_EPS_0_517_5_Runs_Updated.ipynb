{
  "nbformat": 4,
  "nbformat_minor": 0,
  "metadata": {
    "colab": {
      "name": "DP_SGD_Fixed_EPS_MNIST3_EPS_0.517_5_Runs.ipynb",
      "provenance": [],
      "collapsed_sections": [],
      "machine_shape": "hm"
    },
    "kernelspec": {
      "display_name": "Python 3",
      "name": "python3"
    },
    "language_info": {
      "name": "python"
    },
    "accelerator": "GPU"
  },
  "cells": [
    {
      "cell_type": "code",
      "metadata": {
        "colab": {
          "base_uri": "https://localhost:8080/"
        },
        "id": "X6dxeQuCb8mc",
        "outputId": "502fb1e1-7f8d-494e-9ee7-96939776e12a"
      },
      "source": [
        "!nvidia-smi"
      ],
      "execution_count": null,
      "outputs": [
        {
          "output_type": "stream",
          "text": [
            "Wed May 26 17:10:39 2021       \n",
            "+-----------------------------------------------------------------------------+\n",
            "| NVIDIA-SMI 465.19.01    Driver Version: 460.32.03    CUDA Version: 11.2     |\n",
            "|-------------------------------+----------------------+----------------------+\n",
            "| GPU  Name        Persistence-M| Bus-Id        Disp.A | Volatile Uncorr. ECC |\n",
            "| Fan  Temp  Perf  Pwr:Usage/Cap|         Memory-Usage | GPU-Util  Compute M. |\n",
            "|                               |                      |               MIG M. |\n",
            "|===============================+======================+======================|\n",
            "|   0  Tesla P100-PCIE...  Off  | 00000000:00:04.0 Off |                    0 |\n",
            "| N/A   34C    P0    28W / 250W |      0MiB / 16280MiB |      0%      Default |\n",
            "|                               |                      |                  N/A |\n",
            "+-------------------------------+----------------------+----------------------+\n",
            "                                                                               \n",
            "+-----------------------------------------------------------------------------+\n",
            "| Processes:                                                                  |\n",
            "|  GPU   GI   CI        PID   Type   Process name                  GPU Memory |\n",
            "|        ID   ID                                                   Usage      |\n",
            "|=============================================================================|\n",
            "|  No running processes found                                                 |\n",
            "+-----------------------------------------------------------------------------+\n"
          ],
          "name": "stdout"
        }
      ]
    },
    {
      "cell_type": "code",
      "metadata": {
        "id": "1RfNw1yT1JDF",
        "colab": {
          "base_uri": "https://localhost:8080/"
        },
        "outputId": "f5d25810-a930-43ce-ea8f-e8c911b7b5d9"
      },
      "source": [
        "!pip install tensorflow_privacy"
      ],
      "execution_count": null,
      "outputs": [
        {
          "output_type": "stream",
          "text": [
            "Collecting tensorflow_privacy\n",
            "\u001b[?25l  Downloading https://files.pythonhosted.org/packages/5e/53/31a388f82202a155f248f75cc0f45bd0b85a0ef020a2472e600dc19d38d6/tensorflow_privacy-0.5.2-py3-none-any.whl (192kB)\n",
            "\r\u001b[K     |█▊                              | 10kB 21.5MB/s eta 0:00:01\r\u001b[K     |███▍                            | 20kB 18.3MB/s eta 0:00:01\r\u001b[K     |█████                           | 30kB 15.2MB/s eta 0:00:01\r\u001b[K     |██████▉                         | 40kB 14.0MB/s eta 0:00:01\r\u001b[K     |████████▌                       | 51kB 8.0MB/s eta 0:00:01\r\u001b[K     |██████████▏                     | 61kB 7.6MB/s eta 0:00:01\r\u001b[K     |████████████                    | 71kB 8.6MB/s eta 0:00:01\r\u001b[K     |█████████████▋                  | 81kB 9.0MB/s eta 0:00:01\r\u001b[K     |███████████████▎                | 92kB 9.3MB/s eta 0:00:01\r\u001b[K     |█████████████████               | 102kB 10.1MB/s eta 0:00:01\r\u001b[K     |██████████████████▊             | 112kB 10.1MB/s eta 0:00:01\r\u001b[K     |████████████████████▍           | 122kB 10.1MB/s eta 0:00:01\r\u001b[K     |██████████████████████▏         | 133kB 10.1MB/s eta 0:00:01\r\u001b[K     |███████████████████████▉        | 143kB 10.1MB/s eta 0:00:01\r\u001b[K     |█████████████████████████▌      | 153kB 10.1MB/s eta 0:00:01\r\u001b[K     |███████████████████████████▏    | 163kB 10.1MB/s eta 0:00:01\r\u001b[K     |█████████████████████████████   | 174kB 10.1MB/s eta 0:00:01\r\u001b[K     |██████████████████████████████▋ | 184kB 10.1MB/s eta 0:00:01\r\u001b[K     |████████████████████████████████| 194kB 10.1MB/s \n",
            "\u001b[?25hRequirement already satisfied: tensorflow-estimator>=2.3.0 in /usr/local/lib/python3.7/dist-packages (from tensorflow_privacy) (2.5.0)\n",
            "Requirement already satisfied: mpmath in /usr/local/lib/python3.7/dist-packages (from tensorflow_privacy) (1.2.1)\n",
            "Requirement already satisfied: dm-tree~=0.1.1 in /usr/local/lib/python3.7/dist-packages (from tensorflow_privacy) (0.1.6)\n",
            "Requirement already satisfied: scipy>=0.17 in /usr/local/lib/python3.7/dist-packages (from tensorflow_privacy) (1.4.1)\n",
            "Requirement already satisfied: six>=1.12.0 in /usr/local/lib/python3.7/dist-packages (from dm-tree~=0.1.1->tensorflow_privacy) (1.15.0)\n",
            "Requirement already satisfied: numpy>=1.13.3 in /usr/local/lib/python3.7/dist-packages (from scipy>=0.17->tensorflow_privacy) (1.19.5)\n",
            "Installing collected packages: tensorflow-privacy\n",
            "Successfully installed tensorflow-privacy-0.5.2\n"
          ],
          "name": "stdout"
        }
      ]
    },
    {
      "cell_type": "code",
      "metadata": {
        "colab": {
          "base_uri": "https://localhost:8080/"
        },
        "id": "Appzq0U8cGBt",
        "outputId": "b9113615-a370-4316-f3d8-7ec86f2362f1"
      },
      "source": [
        "from google.colab import drive\n",
        "\n",
        "drive.mount('/content/drive', force_remount = True)"
      ],
      "execution_count": null,
      "outputs": [
        {
          "output_type": "stream",
          "text": [
            "Mounted at /content/drive\n"
          ],
          "name": "stdout"
        }
      ]
    },
    {
      "cell_type": "code",
      "metadata": {
        "colab": {
          "base_uri": "https://localhost:8080/"
        },
        "id": "LgSzYyR8MWbx",
        "outputId": "568b48a4-7f62-4712-cc0c-b398bc0bac16"
      },
      "source": [
        "!ls -lrt /content/drive/MyDrive/"
      ],
      "execution_count": null,
      "outputs": [
        {
          "output_type": "stream",
          "text": [
            "total 96237\n",
            "-rw------- 1 root root  2385789 Apr 28 11:54  df.csv\n",
            "drwx------ 2 root root     4096 Apr 29 08:56 'Colab Notebooks'\n",
            "-rw------- 1 root root  2760366 May  2 18:25  newdf.csv\n",
            "drwx------ 2 root root     4096 May  4 10:59  Datasets\n",
            "-rw------- 1 root root 28883068 May 10 13:58  MNIST1.zip\n",
            "-rw------- 1 root root 28881137 May 10 14:01  MNIST2.zip\n",
            "-rw------- 1 root root 28882506 May 10 14:03  MNIST3.zip\n",
            "-rw------- 1 root root  1945158 May 14 15:18  MNIST1_train.csv\n",
            "-rw------- 1 root root   298391 May 14 15:18  MNIST1_test.csv\n",
            "-rw------- 1 root root  1945158 May 14 17:29  MNIST2_train.csv\n",
            "-rw------- 1 root root   298391 May 14 17:29  MNIST2_test.csv\n",
            "-rw------- 1 root root      151 May 23 21:50 'class_accuracy (1).gsheet'\n",
            "-rw------- 1 root root     1975 May 26 10:13  class_accuracy.csv\n",
            "-rw------- 1 root root      151 May 26 16:11  class_accuracy.gsheet\n",
            "drwx------ 2 root root     4096 May 26 16:43  PATE_Teacher\n",
            "drwx------ 2 root root     4096 May 26 16:43  PATE_Student\n",
            "-rw------- 1 root root  1945158 May 26 16:47  MNIST3_train.csv\n",
            "-rw------- 1 root root   298391 May 26 16:47  MNIST3_test.csv\n"
          ],
          "name": "stdout"
        }
      ]
    },
    {
      "cell_type": "code",
      "metadata": {
        "colab": {
          "base_uri": "https://localhost:8080/"
        },
        "id": "yuhZTiLRcWec",
        "outputId": "10d592da-3d9e-41a2-9edd-218db9dce488"
      },
      "source": [
        "!du -hs /content/drive/MyDrive/"
      ],
      "execution_count": null,
      "outputs": [
        {
          "output_type": "stream",
          "text": [
            "96M\t/content/drive/MyDrive/\n"
          ],
          "name": "stdout"
        }
      ]
    },
    {
      "cell_type": "code",
      "metadata": {
        "id": "jFsdeHKXcWkc"
      },
      "source": [
        "!cp -R /content/drive/MyDrive/MNIST3.zip ./"
      ],
      "execution_count": null,
      "outputs": []
    },
    {
      "cell_type": "code",
      "metadata": {
        "id": "2F-Vhw9zMiJh"
      },
      "source": [
        "!unzip -q ./MNIST3.zip"
      ],
      "execution_count": null,
      "outputs": []
    },
    {
      "cell_type": "code",
      "metadata": {
        "colab": {
          "base_uri": "https://localhost:8080/",
          "height": 35
        },
        "id": "Ca3c0xbNMxXj",
        "outputId": "d6796aa9-aff6-4d7a-fcb0-e6535aa7353e"
      },
      "source": [
        "pwd"
      ],
      "execution_count": null,
      "outputs": [
        {
          "output_type": "execute_result",
          "data": {
            "application/vnd.google.colaboratory.intrinsic+json": {
              "type": "string"
            },
            "text/plain": [
              "'/content'"
            ]
          },
          "metadata": {
            "tags": []
          },
          "execution_count": 8
        }
      ]
    },
    {
      "cell_type": "code",
      "metadata": {
        "id": "Jp6ItdoUUlxc",
        "colab": {
          "base_uri": "https://localhost:8080/"
        },
        "outputId": "f87450c2-94a8-410d-c795-65f6c9d62c58"
      },
      "source": [
        "!ls -lrt /content/MNIST3/"
      ],
      "execution_count": null,
      "outputs": [
        {
          "output_type": "stream",
          "text": [
            "total 8\n",
            "drwxr-xr-x 12 root root 4096 May 10 14:02 train\n",
            "drwxr-xr-x 12 root root 4096 May 10 14:03 test\n"
          ],
          "name": "stdout"
        }
      ]
    },
    {
      "cell_type": "code",
      "metadata": {
        "id": "2L4e5-xTcN9f"
      },
      "source": [
        "import torch\n",
        "import torch.nn as nn\n",
        "import torch.nn.functional as F\n",
        "\n",
        "\n",
        "from torchvision import datasets, transforms\n",
        "from torch.utils.data import Dataset\n",
        "from torch.utils.data.sampler import SubsetRandomSampler\n",
        "import numpy as np\n",
        "from tqdm import tqdm as tqdm\n",
        "\n",
        "\n",
        "import torchvision\n",
        "import random\n",
        "import os\n",
        "import glob\n",
        "import copy\n",
        "from torchsummary import summary\n",
        "\n",
        "import matplotlib.pyplot as plt\n",
        "\n",
        "seed = 42\n",
        "best_model = None\n",
        "best_loss = 0.\n",
        "best_test_loss = 0.\n",
        "best_test_acc = 0.\n",
        "best_pred_labels = []\n",
        "true_labels = []\n",
        "\n",
        "pred_labels = []\n",
        "test_acc = 0.\n",
        "test_loss = 0.\n",
        "\n",
        "# device = torch.device('cuda:0')\n",
        "device = torch.device('cuda' if torch.cuda.is_available() else 'cpu')\n"
      ],
      "execution_count": null,
      "outputs": []
    },
    {
      "cell_type": "code",
      "metadata": {
        "id": "GA0Q7OLLzlpg"
      },
      "source": [
        ""
      ],
      "execution_count": null,
      "outputs": []
    },
    {
      "cell_type": "code",
      "metadata": {
        "id": "45Ym17NhNlB4"
      },
      "source": [
        "train_transform = transforms.Compose([transforms.Grayscale(num_output_channels=1),transforms.ToTensor(),])\n",
        "test_transform = transforms.Compose([transforms.Grayscale(num_output_channels=1),transforms.ToTensor(),])"
      ],
      "execution_count": null,
      "outputs": []
    },
    {
      "cell_type": "code",
      "metadata": {
        "id": "06V661lQNDvg"
      },
      "source": [
        "PATH_TO_MNIST3 = '/content/MNIST3'\n",
        "\n",
        "trainset = datasets.ImageFolder(root=PATH_TO_MNIST3+'/train',transform=train_transform)\n",
        "testset = datasets.ImageFolder(root=PATH_TO_MNIST3+'/test',transform=test_transform)\n",
        "trainloader = torch.utils.data.DataLoader(trainset, batch_size=128, shuffle=True)\n",
        "testloader = torch.utils.data.DataLoader(testset, batch_size=128, shuffle=True)"
      ],
      "execution_count": null,
      "outputs": []
    },
    {
      "cell_type": "code",
      "metadata": {
        "colab": {
          "base_uri": "https://localhost:8080/"
        },
        "id": "RWo1EWYCNDyU",
        "outputId": "dce397ad-6506-44d4-d64a-29b9d4922b7b"
      },
      "source": [
        "dataiter = iter(trainloader)\n",
        "images, labels = dataiter.next()\n",
        "\n",
        "print(type(images))\n",
        "print(type(labels))\n",
        "print(images.shape)\n",
        "print(labels.shape)"
      ],
      "execution_count": null,
      "outputs": [
        {
          "output_type": "stream",
          "text": [
            "<class 'torch.Tensor'>\n",
            "<class 'torch.Tensor'>\n",
            "torch.Size([128, 1, 28, 28])\n",
            "torch.Size([128])\n"
          ],
          "name": "stdout"
        }
      ]
    },
    {
      "cell_type": "code",
      "metadata": {
        "colab": {
          "base_uri": "https://localhost:8080/",
          "height": 265
        },
        "id": "pmIQFvZEN9tF",
        "outputId": "2819821e-d46f-4420-ef2a-142475c23610"
      },
      "source": [
        "plt.imshow(images[0].numpy().squeeze(), cmap='gray');"
      ],
      "execution_count": null,
      "outputs": [
        {
          "output_type": "display_data",
          "data": {
            "image/png": "[encoded data removed]",
            "text/plain": [
              "<Figure size 432x288 with 1 Axes>"
            ]
          },
          "metadata": {
            "tags": [],
            "needs_background": "light"
          }
        }
      ]
    },
    {
      "cell_type": "code",
      "metadata": {
        "id": "UQexw1WXN9v_"
      },
      "source": [
        ""
      ],
      "execution_count": null,
      "outputs": []
    },
    {
      "cell_type": "code",
      "metadata": {
        "colab": {
          "base_uri": "https://localhost:8080/",
          "height": 624
        },
        "id": "kE3j6NnbkH94",
        "outputId": "6a1b3b6d-9eb7-4028-e52c-3e3689a89e5b"
      },
      "source": [
        "import matplotlib.pyplot as plt\n",
        "import collections\n",
        "\n",
        "class_freq_counter = collections.Counter(trainloader.dataset.targets)\n",
        "class_freq = [val for val in class_freq_counter.values()]\n",
        "\n",
        "plt.figure(figsize = (10,10))\n",
        "classes = [0, 1, 2, 3, 4, 5, 6, 7, 8, 9]\n",
        "for idx, val in enumerate(class_freq):\n",
        "  plt.text((idx-0.25),val+40, str(val), fontsize=12)\n",
        "plt.bar(classes, class_freq, color='green')\n",
        "plt.title(\"MNIST3 Training Dataset Distribution\")"
      ],
      "execution_count": null,
      "outputs": [
        {
          "output_type": "execute_result",
          "data": {
            "text/plain": [
              "Text(0.5, 1.0, 'MNIST3 Training Dataset Distribution')"
            ]
          },
          "metadata": {
            "tags": []
          },
          "execution_count": 15
        },
        {
          "output_type": "display_data",
          "data": {
            "image/png": "[encoded data removed]",
            "text/plain": [
              "<Figure size 720x720 with 1 Axes>"
            ]
          },
          "metadata": {
            "tags": [],
            "needs_background": "light"
          }
        }
      ]
    },
    {
      "cell_type": "code",
      "metadata": {
        "colab": {
          "base_uri": "https://localhost:8080/",
          "height": 607
        },
        "id": "ZDpxfKNKxIT1",
        "outputId": "81b88133-2d17-4edb-987e-259d8206c32d"
      },
      "source": [
        "import matplotlib.pyplot as plt\n",
        "import collections\n",
        "\n",
        "class_freq_counter = collections.Counter(testloader.dataset.targets)\n",
        "class_freq = [val for val in class_freq_counter.values()]\n",
        "\n",
        "plt.figure(figsize = (10,10))\n",
        "classes = [0, 1, 2, 3, 4, 5, 6, 7, 8, 9]\n",
        "for idx, val in enumerate(class_freq):\n",
        "  plt.text((idx-0.25),val+10, str(val), fontsize=12)\n",
        "#plt.text(0,980, \"980\")\n",
        "#plt.text(1,1135, \"1135\")\n",
        "plt.bar(classes, class_freq, color='green')\n",
        "plt.title(\"MNIST3 Test Dataset Distribution\")\n",
        "plt.show()"
      ],
      "execution_count": null,
      "outputs": [
        {
          "output_type": "display_data",
          "data": {
            "image/png": "[encoded data removed]",
            "text/plain": [
              "<Figure size 720x720 with 1 Axes>"
            ]
          },
          "metadata": {
            "tags": [],
            "needs_background": "light"
          }
        }
      ]
    },
    {
      "cell_type": "code",
      "metadata": {
        "colab": {
          "base_uri": "https://localhost:8080/"
        },
        "id": "aBXsm9wZyzb_",
        "outputId": "e6053023-a847-47e6-82b0-5fdf621a5daf"
      },
      "source": [
        "class_freq"
      ],
      "execution_count": null,
      "outputs": [
        {
          "output_type": "execute_result",
          "data": {
            "text/plain": [
              "[980, 1135, 1032, 1010, 982, 892, 958, 1028, 83, 1009]"
            ]
          },
          "metadata": {
            "tags": []
          },
          "execution_count": 17
        }
      ]
    },
    {
      "cell_type": "code",
      "metadata": {
        "colab": {
          "base_uri": "https://localhost:8080/"
        },
        "id": "gdxkrAlgyphe",
        "outputId": "201df362-03d1-4a6c-c32a-c88f6c51f2b2"
      },
      "source": [
        "print(\"Total number of samples in Train dataset :\", np.sum(class_freq))"
      ],
      "execution_count": null,
      "outputs": [
        {
          "output_type": "stream",
          "text": [
            "Total number of samples in Train dataset : 9109\n"
          ],
          "name": "stdout"
        }
      ]
    },
    {
      "cell_type": "code",
      "metadata": {
        "id": "yX3ZRXa6jqk3"
      },
      "source": [
        "class Model(nn.Module):\n",
        "    \"\"\"Class used to initialize model of student/teacher\"\"\"\n",
        "\n",
        "    def __init__(self):\n",
        "\n",
        "        super(Model, self).__init__()\n",
        "        self.conv1 = nn.Conv2d(1, 20, 5, 1)\n",
        "        self.conv2 = nn.Conv2d(20, 50, 5, 1)\n",
        "        self.fc1 = nn.Linear(4 * 4 * 50, 500)\n",
        "        self.fc2 = nn.Linear(500, 10)\n",
        "\n",
        "    def forward(self, x):\n",
        "\n",
        "        x = F.relu(self.conv1(x))\n",
        "        x = F.max_pool2d(x, 2, 2)\n",
        "        x = F.relu(self.conv2(x))\n",
        "        x = F.max_pool2d(x, 2, 2)\n",
        "        x = x.view(-1, 4 * 4 * 50)\n",
        "        x = F.relu(self.fc1(x))\n",
        "        x = self.fc2(x)\n",
        "        #return F.log_softmax(x, dim=1)\n",
        "        return x"
      ],
      "execution_count": null,
      "outputs": []
    },
    {
      "cell_type": "code",
      "metadata": {
        "id": "SLuJeOsijuE_"
      },
      "source": [
        "def accuracy(predictions, dataset):\n",
        "    \"\"\"Evaluates accuracy for given set of predictions and true labels.\n",
        "       Args:\n",
        "           predictions[torch tensor]: predictions made by classifier.\n",
        "           labels[torch tensor]: true labels of the dataset.\n",
        "       Returns:\n",
        "           accuracy[float]: accuracy of classifier.\n",
        "    \"\"\"\n",
        "\n",
        "    total = 0.0\n",
        "    correct = 0.0\n",
        "\n",
        "    for j in range(0, len(dataset)):\n",
        "        correct += (predictions[j].long() == dataset[j].long()).sum().item()\n",
        "        total += len(dataset[j])\n",
        "\n",
        "    return (correct / total) * 100"
      ],
      "execution_count": null,
      "outputs": []
    },
    {
      "cell_type": "code",
      "metadata": {
        "id": "TK3HpxIHr-Y-"
      },
      "source": [
        "model = Model().cuda()"
      ],
      "execution_count": null,
      "outputs": []
    },
    {
      "cell_type": "code",
      "metadata": {
        "id": "1T5YkLdpsHtq"
      },
      "source": [
        ""
      ],
      "execution_count": null,
      "outputs": []
    },
    {
      "cell_type": "code",
      "metadata": {
        "id": "ZFzfHjl1sIUd"
      },
      "source": [
        ""
      ],
      "execution_count": null,
      "outputs": []
    },
    {
      "cell_type": "code",
      "metadata": {
        "id": "jlzhGf6fwthq"
      },
      "source": [
        ""
      ],
      "execution_count": null,
      "outputs": []
    },
    {
      "cell_type": "markdown",
      "metadata": {
        "id": "GvUa37k7P-9S"
      },
      "source": [
        "### DP-SGD with eps = 0.517"
      ]
    },
    {
      "cell_type": "code",
      "metadata": {
        "colab": {
          "base_uri": "https://localhost:8080/"
        },
        "id": "xS3Ky2IowtkS",
        "outputId": "d72ee03d-59aa-4bad-a3cd-4d3974827259"
      },
      "source": [
        "batchsize = 256\n",
        "from tensorflow_privacy.privacy.analysis import compute_dp_sgd_privacy\n",
        "\n",
        "#from tensorflow_privacy.privacy.analysis.rdp_accountant import get_privacy_spent\n",
        "\n",
        "\n",
        "rdp = compute_dp_sgd_privacy.compute_dp_sgd_privacy(n=53913, batch_size=batchsize, noise_multiplier=2.7, epochs=35, delta=1e-4)\n",
        "#epsilon = get_privacy_spent(5218, rdp, target_delta=1e-5)[0]\n",
        "rdp"
      ],
      "execution_count": null,
      "outputs": [
        {
          "output_type": "stream",
          "text": [
            "DP-SGD with sampling rate = 0.475% and noise_multiplier = 2.7 iterated over 7371 steps satisfies differential privacy with eps = 0.517 and delta = 0.0001.\n",
            "The optimal RDP order is 23.0.\n"
          ],
          "name": "stdout"
        },
        {
          "output_type": "execute_result",
          "data": {
            "text/plain": [
              "(0.5170754277910086, 23.0)"
            ]
          },
          "metadata": {
            "tags": []
          },
          "execution_count": 22
        }
      ]
    },
    {
      "cell_type": "code",
      "metadata": {
        "id": "WhPxeQ2SzxVb"
      },
      "source": [
        ""
      ],
      "execution_count": null,
      "outputs": []
    },
    {
      "cell_type": "code",
      "metadata": {
        "id": "OA96zTkPQMp5"
      },
      "source": [
        "train_transform = transforms.Compose([transforms.Grayscale(num_output_channels=1),transforms.ToTensor(),])\n",
        "test_transform = transforms.Compose([transforms.Grayscale(num_output_channels=1),transforms.ToTensor(),])"
      ],
      "execution_count": null,
      "outputs": []
    },
    {
      "cell_type": "code",
      "metadata": {
        "id": "tGQjfgKT3OcQ"
      },
      "source": [
        "PATH_TO_MNIST3 = '/content/MNIST3'\n",
        "\n",
        "trainset = datasets.ImageFolder(root=PATH_TO_MNIST3+'/train',transform=train_transform)\n",
        "testset = datasets.ImageFolder(root=PATH_TO_MNIST3+'/test',transform=test_transform)\n",
        "train_loader = torch.utils.data.DataLoader(trainset, batch_size=batchsize, shuffle=True)\n",
        "test_loader = torch.utils.data.DataLoader(testset, batch_size=batchsize, shuffle=True)"
      ],
      "execution_count": null,
      "outputs": []
    },
    {
      "cell_type": "code",
      "metadata": {
        "id": "FcQOV0VjQGxX"
      },
      "source": [
        ""
      ],
      "execution_count": null,
      "outputs": []
    },
    {
      "cell_type": "code",
      "metadata": {
        "id": "odfuFQVP3Oem"
      },
      "source": [
        "def clip_grad(parameters, max_norm, norm_type=2):\n",
        "    parameters = list(filter(lambda p: p.grad is not None, parameters))\n",
        "    total_norm = 0\n",
        "    for p in parameters:\n",
        "        param_norm = p.grad.data.norm(norm_type)\n",
        "        total_norm += param_norm.item() ** norm_type"
      ],
      "execution_count": null,
      "outputs": []
    },
    {
      "cell_type": "code",
      "metadata": {
        "id": "_FOrHWyC3SNc"
      },
      "source": [
        ""
      ],
      "execution_count": null,
      "outputs": []
    },
    {
      "cell_type": "code",
      "metadata": {
        "id": "6PW98byX3SPz"
      },
      "source": [
        "def train_dp(model, trainloader, criterion, optimizer, lr_scheduler, phase='train'):\n",
        "    \"\"\"\n",
        "    Differentially Private version of the training procedure\n",
        "    :param trainloader:\n",
        "    :param model:\n",
        "    :param optimizer:\n",
        "    :param epoch:\n",
        "    :return:\n",
        "    \"\"\"\n",
        "    model.train()\n",
        "    running_loss = 0.0\n",
        "    epoch_loss = 0.\n",
        "    epoch_acc = 0.\n",
        "    \n",
        "    batch_num = 0.\n",
        "    samples_num = 0.\n",
        "    \n",
        "    true_labels = []\n",
        "    pred_labels = []\n",
        "    #num_microbatches = 32*2\n",
        "    num_microbatches = 32\n",
        "    S = 1\n",
        "    z = 2.7  #DP-SGD with sampling rate = 0.119% and noise_multiplier = 2.7 iterated over 42120 steps satisfies differential privacy with eps = 0.291 and delta = 0.0001.\n",
        "              #The optimal RDP order is 37.0.\n",
        "    sigma = z * S\n",
        "    for batch_idx, data in tqdm(enumerate(trainloader, 0), leave=True):\n",
        "        inputs, labels = data\n",
        "        inputs = inputs.to(device)\n",
        "        labels = labels.to(device)\n",
        "        optimizer.zero_grad()\n",
        "        outputs = model(inputs)\n",
        "        _, preds = torch.max(outputs, 1)\n",
        "        loss = criterion(outputs, labels)\n",
        "        #print(loss.shape)\n",
        "        running_loss += torch.mean(loss).item()\n",
        "\n",
        "        true_labels.append(labels.detach().cpu())\n",
        "        pred_labels.append(preds.detach().cpu())\n",
        "\n",
        "        if loss.shape[0] == 121:\n",
        "          losses = torch.mean(loss.reshape(121, -1), dim=1)\n",
        "        else:\n",
        "          losses = torch.mean(loss.reshape(num_microbatches, -1), dim=1)\n",
        "        saved_var = dict()\n",
        "        for tensor_name, tensor in model.named_parameters():\n",
        "            saved_var[tensor_name] = torch.zeros_like(tensor)\n",
        "\n",
        "        for j in losses:\n",
        "            j.backward(retain_graph=True)\n",
        "            torch.nn.utils.clip_grad_norm_(model.parameters(), S)\n",
        "            for tensor_name, tensor in model.named_parameters():\n",
        "                new_grad = tensor.grad\n",
        "                saved_var[tensor_name].add_(new_grad)\n",
        "            model.zero_grad()\n",
        "\n",
        "        for tensor_name, tensor in model.named_parameters():\n",
        "            if device.type =='cuda':\n",
        "                noise = torch.cuda.FloatTensor(tensor.grad.shape).normal_(0, sigma)\n",
        "                #noise = torch.FloatTensor(tensor.grad.shape).normal_(0, sigma)\n",
        "            else:\n",
        "                noise = torch.FloatTensor(tensor.grad.shape).normal_(0, sigma)\n",
        "            saved_var[tensor_name].add_(noise)\n",
        "            tensor.grad = saved_var[tensor_name] / num_microbatches\n",
        "        optimizer.step()\n",
        "\n",
        "        #print(f'\\r{phase} batch [{batch_idx}/{len(trainloader)}]: loss {loss}', end='', flush=True)\n",
        "        ##print(f'\\r{phase} batch [{batch_idx}/{len(trainloader)}]: loss {torch.mean(loss).item()}', end='', flush=True)\n",
        "        epoch_loss += torch.mean(loss.detach().cpu()).item()\n",
        "        epoch_acc += torch.sum(preds == labels.data)\n",
        "        batch_num += 1\n",
        "        samples_num += len(labels)\n",
        "\n",
        "        '''if i > 0 and i % 20 == 0:\n",
        "            #             logger.info('[%d, %5d] loss: %.3f' %\n",
        "            #                   (epoch + 1, i + 1, running_loss / 2000))\n",
        "            plot(epoch * len(trainloader) + i, running_loss, 'Train Loss')\n",
        "            running_loss = 0.0'''\n",
        "    #print(\"RETURNING........\")\n",
        "    return epoch_loss / batch_num, epoch_acc / samples_num, torch.cat(true_labels).numpy(), torch.cat(pred_labels).numpy()"
      ],
      "execution_count": null,
      "outputs": []
    },
    {
      "cell_type": "code",
      "metadata": {
        "id": "FEKZVWwJ3S5g"
      },
      "source": [
        ""
      ],
      "execution_count": null,
      "outputs": []
    },
    {
      "cell_type": "code",
      "metadata": {
        "id": "8RfW3x5-3S7g"
      },
      "source": [
        "def test(model, testloader, criterion, optimizer, lr_scheduler, phase='test'):\n",
        "    model.eval()\n",
        "    #correct = 0\n",
        "    #total = 0\n",
        "\n",
        "    epoch_loss = 0.\n",
        "    epoch_acc = 0.\n",
        "    \n",
        "    batch_num = 0.\n",
        "    samples_num = 0.\n",
        "    \n",
        "    true_labels = []\n",
        "    pred_labels = []\n",
        "\n",
        "    with torch.no_grad():\n",
        "        for batch_idx, data in  enumerate(testloader):\n",
        "            inputs, labels = data\n",
        "            inputs = inputs.to(device)\n",
        "            labels = labels.to(device)\n",
        "            outputs = model(inputs)\n",
        "            #_, predicted = torch.max(outputs.data, 1)\n",
        "            _, preds = torch.max(outputs, 1)\n",
        "            loss = criterion(outputs, labels)\n",
        "            true_labels.append(labels.detach().cpu())\n",
        "            pred_labels.append(preds.detach().cpu())\n",
        "\n",
        "            # print(f'\\r{phase} batch [{batch_idx}/{len(testloader)}]: loss {loss}', end='', flush=True)\n",
        "            #print(f'\\r{phase} batch [{batch_idx}/{len(testloader)}]: loss {torch.mean(loss).item()}', end='', flush=True)\n",
        "            epoch_loss += torch.mean(loss.detach().cpu()).item()\n",
        "            epoch_acc += torch.sum(preds == labels.data)\n",
        "            batch_num += 1\n",
        "            samples_num += len(labels)\n",
        "\n",
        "            #total += labels.size(0)\n",
        "            #correct += (predicted == labels).sum().item()\n",
        "        #print(\"TESTING.....\")\n",
        "        return epoch_loss / batch_num, epoch_acc / samples_num, torch.cat(true_labels).numpy(), torch.cat(pred_labels).numpy()"
      ],
      "execution_count": null,
      "outputs": []
    },
    {
      "cell_type": "code",
      "metadata": {
        "id": "zJgHX-m33Zcp"
      },
      "source": [
        ""
      ],
      "execution_count": null,
      "outputs": []
    },
    {
      "cell_type": "code",
      "metadata": {
        "id": "6UUC5QRT3cpF"
      },
      "source": [
        "criterion = torch.nn.CrossEntropyLoss(reduction='none')\n",
        "optimizer = torch.optim.SGD(model.parameters(), lr=1e-2, weight_decay=0.001)\n",
        "lr_scheduler = torch.optim.lr_scheduler.ReduceLROnPlateau(optimizer, patience=3, verbose=True)\n"
      ],
      "execution_count": null,
      "outputs": []
    },
    {
      "cell_type": "code",
      "metadata": {
        "id": "VfysDNqRrgB4"
      },
      "source": [
        "train_nrun_losses = []\n",
        "val_nrun_losses = []\n",
        "test_nrun_losses = []\n",
        "test_nrun_true_labels = []\n",
        "test_nrun_pred_labels = []\n",
        "test_nrun_acc = []\n",
        "\n",
        "def train_n(runs, nepochs = 50):\n",
        "  for run in range(runs):\n",
        "    model = Model().cuda()\n",
        "    criterion = torch.nn.CrossEntropyLoss(reduction='none')\n",
        "    optimizer = torch.optim.SGD(model.parameters(), lr=1e-2, weight_decay=0.001)\n",
        "    lr_scheduler = torch.optim.lr_scheduler.ReduceLROnPlateau(optimizer, patience=3, verbose=True)\n",
        "    print(\"Train Log of run \", run)\n",
        "    train_losses = []\n",
        "    val_losses = []\n",
        "    test_losses = []\n",
        "    train_accuracies = []\n",
        "    test_accuracies = []\n",
        "\n",
        "    best_model = None\n",
        "    for epoch in range(nepochs):\n",
        "        print('='*15, f'Epoch: {epoch}')\n",
        "    \n",
        "        #train_dp(model, trainloader, criterion, optimizer, lr_scheduler, phase='train')\n",
        "        #test(model, testloader, criterion, optimizer, lr_scheduler, phase='test')\n",
        "\n",
        "        train_loss, train_acc, _, _ = train_dp(model, train_loader, criterion, optimizer, lr_scheduler)\n",
        "        #val_loss, val_acc, _, _ = test(model, test_loader, criterion, optimizer, lr_scheduler, phase='val')\n",
        "        ###test_loss, test_acc, _, _ = test(model, test_loader, criterion, optimizer, lr_scheduler, phase='val') ### IMPORTANT :::: Although this is test_dataloader, the name for phase is given as 'val', it is just a incorrect label and nothing else\n",
        "        #test_loss, test_acc, true_labels, pred_labels = run_epoch(model, test_dataloader, criterion, optimizer, lr_scheduler, phase='test')\n",
        "    \n",
        "        ##print()\n",
        "        ##print(f'Train loss: {train_loss}, Train accuracy: {train_acc}')\n",
        "        #print(f'Val loss: {val_loss}, Val accuracy: {val_acc}')\n",
        "        ##print(f'Test loss: {test_loss}, Test accuracy: {test_acc}')\n",
        "        ##print()\n",
        "    \n",
        "        ##train_losses.append(train_loss)\n",
        "        ##train_accuracies.append(train_acc)\n",
        "        #val_losses.append(test_loss)\n",
        "        #test_losses.append(test_loss)\n",
        "        ##test_accuracies.append(test_acc)\n",
        "    \n",
        "        torch.save({'epoch': epoch, 'model': model.state_dict()}, f'covnet-{seed}.pt')\n",
        "    \n",
        "        '''\n",
        "        if best_model is None or test_loss < best_loss:\n",
        "            best_model = copy.deepcopy(model)\n",
        "            #best_loss = val_loss\n",
        "            best_test_loss = test_loss\n",
        "            best_test_acc = test_acc \n",
        "            best_pred_labels = pred_labels\n",
        "            torch.save({'epoch': epoch, 'model': model.state_dict()}, f'covnet-{seed}.pt')\n",
        "        '''\n",
        "    train_losses.append(train_loss)\n",
        "    train_accuracies.append(train_acc)\n",
        "    test_loss, test_acc, _, _ = test(model, test_loader, criterion, optimizer, lr_scheduler, phase='test')\n",
        "    test_losses.append(test_loss)\n",
        "    test_accuracies.append(test_acc)\n",
        "\n",
        "    train_nrun_losses.append(train_losses)\n",
        "    test_nrun_losses.append(test_losses)\n",
        "    Test_loss_after_training, test_acc_after_training, true_labels_test, pred_labels_test = test(model, test_loader, criterion, optimizer, lr_scheduler, phase='test')\n",
        "    test_nrun_true_labels.append(true_labels_test)\n",
        "    test_nrun_pred_labels.append(pred_labels_test)\n",
        "    test_nrun_acc.append(test_acc_after_training)\n"
      ],
      "execution_count": null,
      "outputs": []
    },
    {
      "cell_type": "code",
      "metadata": {
        "colab": {
          "base_uri": "https://localhost:8080/"
        },
        "id": "4-SfZ0zQtK0_",
        "outputId": "6bb75a4d-9255-449c-e33c-1a572d86ffed"
      },
      "source": [
        "train_n(5, 35)"
      ],
      "execution_count": null,
      "outputs": [
        {
          "output_type": "stream",
          "text": [
            "\r0it [00:00, ?it/s]"
          ],
          "name": "stderr"
        },
        {
          "output_type": "stream",
          "text": [
            "Train Log of run  0\n",
            "=============== Epoch: 0\n"
          ],
          "name": "stdout"
        },
        {
          "output_type": "stream",
          "text": [
            "214it [00:36,  5.84it/s]\n",
            "1it [00:00,  5.94it/s]"
          ],
          "name": "stderr"
        },
        {
          "output_type": "stream",
          "text": [
            "=============== Epoch: 1\n"
          ],
          "name": "stdout"
        },
        {
          "output_type": "stream",
          "text": [
            "214it [00:36,  5.90it/s]\n",
            "1it [00:00,  5.89it/s]"
          ],
          "name": "stderr"
        },
        {
          "output_type": "stream",
          "text": [
            "=============== Epoch: 2\n"
          ],
          "name": "stdout"
        },
        {
          "output_type": "stream",
          "text": [
            "214it [00:36,  5.93it/s]\n",
            "1it [00:00,  6.01it/s]"
          ],
          "name": "stderr"
        },
        {
          "output_type": "stream",
          "text": [
            "=============== Epoch: 3\n"
          ],
          "name": "stdout"
        },
        {
          "output_type": "stream",
          "text": [
            "214it [00:35,  5.95it/s]\n",
            "1it [00:00,  5.82it/s]"
          ],
          "name": "stderr"
        },
        {
          "output_type": "stream",
          "text": [
            "=============== Epoch: 4\n"
          ],
          "name": "stdout"
        },
        {
          "output_type": "stream",
          "text": [
            "214it [00:36,  5.93it/s]\n",
            "1it [00:00,  5.96it/s]"
          ],
          "name": "stderr"
        },
        {
          "output_type": "stream",
          "text": [
            "=============== Epoch: 5\n"
          ],
          "name": "stdout"
        },
        {
          "output_type": "stream",
          "text": [
            "214it [00:36,  5.92it/s]\n",
            "1it [00:00,  5.98it/s]"
          ],
          "name": "stderr"
        },
        {
          "output_type": "stream",
          "text": [
            "=============== Epoch: 6\n"
          ],
          "name": "stdout"
        },
        {
          "output_type": "stream",
          "text": [
            "214it [00:36,  5.92it/s]\n",
            "1it [00:00,  5.81it/s]"
          ],
          "name": "stderr"
        },
        {
          "output_type": "stream",
          "text": [
            "=============== Epoch: 7\n"
          ],
          "name": "stdout"
        },
        {
          "output_type": "stream",
          "text": [
            "214it [00:36,  5.94it/s]\n",
            "1it [00:00,  5.95it/s]"
          ],
          "name": "stderr"
        },
        {
          "output_type": "stream",
          "text": [
            "=============== Epoch: 8\n"
          ],
          "name": "stdout"
        },
        {
          "output_type": "stream",
          "text": [
            "214it [00:36,  5.93it/s]\n",
            "1it [00:00,  5.94it/s]"
          ],
          "name": "stderr"
        },
        {
          "output_type": "stream",
          "text": [
            "=============== Epoch: 9\n"
          ],
          "name": "stdout"
        },
        {
          "output_type": "stream",
          "text": [
            "214it [00:36,  5.91it/s]\n",
            "1it [00:00,  5.86it/s]"
          ],
          "name": "stderr"
        },
        {
          "output_type": "stream",
          "text": [
            "=============== Epoch: 10\n"
          ],
          "name": "stdout"
        },
        {
          "output_type": "stream",
          "text": [
            "214it [00:36,  5.94it/s]\n",
            "1it [00:00,  5.94it/s]"
          ],
          "name": "stderr"
        },
        {
          "output_type": "stream",
          "text": [
            "=============== Epoch: 11\n"
          ],
          "name": "stdout"
        },
        {
          "output_type": "stream",
          "text": [
            "214it [00:35,  5.95it/s]\n",
            "1it [00:00,  6.00it/s]"
          ],
          "name": "stderr"
        },
        {
          "output_type": "stream",
          "text": [
            "=============== Epoch: 12\n"
          ],
          "name": "stdout"
        },
        {
          "output_type": "stream",
          "text": [
            "214it [00:35,  5.96it/s]\n",
            "1it [00:00,  5.82it/s]"
          ],
          "name": "stderr"
        },
        {
          "output_type": "stream",
          "text": [
            "=============== Epoch: 13\n"
          ],
          "name": "stdout"
        },
        {
          "output_type": "stream",
          "text": [
            "214it [00:36,  5.94it/s]\n",
            "1it [00:00,  6.01it/s]"
          ],
          "name": "stderr"
        },
        {
          "output_type": "stream",
          "text": [
            "=============== Epoch: 14\n"
          ],
          "name": "stdout"
        },
        {
          "output_type": "stream",
          "text": [
            "214it [00:35,  5.95it/s]\n",
            "1it [00:00,  5.98it/s]"
          ],
          "name": "stderr"
        },
        {
          "output_type": "stream",
          "text": [
            "=============== Epoch: 15\n"
          ],
          "name": "stdout"
        },
        {
          "output_type": "stream",
          "text": [
            "214it [00:36,  5.94it/s]\n",
            "1it [00:00,  5.95it/s]"
          ],
          "name": "stderr"
        },
        {
          "output_type": "stream",
          "text": [
            "=============== Epoch: 16\n"
          ],
          "name": "stdout"
        },
        {
          "output_type": "stream",
          "text": [
            "214it [00:35,  5.96it/s]\n",
            "1it [00:00,  5.72it/s]"
          ],
          "name": "stderr"
        },
        {
          "output_type": "stream",
          "text": [
            "=============== Epoch: 17\n"
          ],
          "name": "stdout"
        },
        {
          "output_type": "stream",
          "text": [
            "214it [00:36,  5.93it/s]\n",
            "1it [00:00,  6.02it/s]"
          ],
          "name": "stderr"
        },
        {
          "output_type": "stream",
          "text": [
            "=============== Epoch: 18\n"
          ],
          "name": "stdout"
        },
        {
          "output_type": "stream",
          "text": [
            "214it [00:36,  5.93it/s]\n",
            "1it [00:00,  5.96it/s]"
          ],
          "name": "stderr"
        },
        {
          "output_type": "stream",
          "text": [
            "=============== Epoch: 19\n"
          ],
          "name": "stdout"
        },
        {
          "output_type": "stream",
          "text": [
            "214it [00:36,  5.93it/s]\n",
            "1it [00:00,  5.98it/s]"
          ],
          "name": "stderr"
        },
        {
          "output_type": "stream",
          "text": [
            "=============== Epoch: 20\n"
          ],
          "name": "stdout"
        },
        {
          "output_type": "stream",
          "text": [
            "214it [00:36,  5.94it/s]\n",
            "1it [00:00,  5.93it/s]"
          ],
          "name": "stderr"
        },
        {
          "output_type": "stream",
          "text": [
            "=============== Epoch: 21\n"
          ],
          "name": "stdout"
        },
        {
          "output_type": "stream",
          "text": [
            "214it [00:35,  5.97it/s]\n",
            "1it [00:00,  5.90it/s]"
          ],
          "name": "stderr"
        },
        {
          "output_type": "stream",
          "text": [
            "=============== Epoch: 22\n"
          ],
          "name": "stdout"
        },
        {
          "output_type": "stream",
          "text": [
            "214it [00:35,  5.96it/s]\n",
            "1it [00:00,  6.01it/s]"
          ],
          "name": "stderr"
        },
        {
          "output_type": "stream",
          "text": [
            "=============== Epoch: 23\n"
          ],
          "name": "stdout"
        },
        {
          "output_type": "stream",
          "text": [
            "214it [00:35,  5.97it/s]\n",
            "1it [00:00,  5.82it/s]"
          ],
          "name": "stderr"
        },
        {
          "output_type": "stream",
          "text": [
            "=============== Epoch: 24\n"
          ],
          "name": "stdout"
        },
        {
          "output_type": "stream",
          "text": [
            "214it [00:36,  5.94it/s]\n",
            "1it [00:00,  5.98it/s]"
          ],
          "name": "stderr"
        },
        {
          "output_type": "stream",
          "text": [
            "=============== Epoch: 25\n"
          ],
          "name": "stdout"
        },
        {
          "output_type": "stream",
          "text": [
            "214it [00:35,  5.95it/s]\n",
            "1it [00:00,  5.98it/s]"
          ],
          "name": "stderr"
        },
        {
          "output_type": "stream",
          "text": [
            "=============== Epoch: 26\n"
          ],
          "name": "stdout"
        },
        {
          "output_type": "stream",
          "text": [
            "214it [00:35,  5.95it/s]\n",
            "1it [00:00,  5.98it/s]"
          ],
          "name": "stderr"
        },
        {
          "output_type": "stream",
          "text": [
            "=============== Epoch: 27\n"
          ],
          "name": "stdout"
        },
        {
          "output_type": "stream",
          "text": [
            "214it [00:35,  5.96it/s]\n",
            "1it [00:00,  5.99it/s]"
          ],
          "name": "stderr"
        },
        {
          "output_type": "stream",
          "text": [
            "=============== Epoch: 28\n"
          ],
          "name": "stdout"
        },
        {
          "output_type": "stream",
          "text": [
            "214it [00:35,  5.95it/s]\n",
            "1it [00:00,  5.99it/s]"
          ],
          "name": "stderr"
        },
        {
          "output_type": "stream",
          "text": [
            "=============== Epoch: 29\n"
          ],
          "name": "stdout"
        },
        {
          "output_type": "stream",
          "text": [
            "214it [00:35,  5.96it/s]\n",
            "1it [00:00,  5.98it/s]"
          ],
          "name": "stderr"
        },
        {
          "output_type": "stream",
          "text": [
            "=============== Epoch: 30\n"
          ],
          "name": "stdout"
        },
        {
          "output_type": "stream",
          "text": [
            "214it [00:35,  5.94it/s]\n",
            "1it [00:00,  5.99it/s]"
          ],
          "name": "stderr"
        },
        {
          "output_type": "stream",
          "text": [
            "=============== Epoch: 31\n"
          ],
          "name": "stdout"
        },
        {
          "output_type": "stream",
          "text": [
            "214it [00:36,  5.94it/s]\n",
            "1it [00:00,  6.06it/s]"
          ],
          "name": "stderr"
        },
        {
          "output_type": "stream",
          "text": [
            "=============== Epoch: 32\n"
          ],
          "name": "stdout"
        },
        {
          "output_type": "stream",
          "text": [
            "214it [00:35,  5.98it/s]\n",
            "1it [00:00,  5.98it/s]"
          ],
          "name": "stderr"
        },
        {
          "output_type": "stream",
          "text": [
            "=============== Epoch: 33\n"
          ],
          "name": "stdout"
        },
        {
          "output_type": "stream",
          "text": [
            "214it [00:35,  5.96it/s]\n",
            "1it [00:00,  5.90it/s]"
          ],
          "name": "stderr"
        },
        {
          "output_type": "stream",
          "text": [
            "=============== Epoch: 34\n"
          ],
          "name": "stdout"
        },
        {
          "output_type": "stream",
          "text": [
            "214it [00:35,  5.97it/s]\n",
            "1it [00:00,  5.80it/s]"
          ],
          "name": "stderr"
        },
        {
          "output_type": "stream",
          "text": [
            "Train Log of run  1\n",
            "=============== Epoch: 0\n"
          ],
          "name": "stdout"
        },
        {
          "output_type": "stream",
          "text": [
            "214it [00:35,  5.96it/s]\n",
            "1it [00:00,  5.98it/s]"
          ],
          "name": "stderr"
        },
        {
          "output_type": "stream",
          "text": [
            "=============== Epoch: 1\n"
          ],
          "name": "stdout"
        },
        {
          "output_type": "stream",
          "text": [
            "214it [00:35,  5.97it/s]\n",
            "1it [00:00,  5.81it/s]"
          ],
          "name": "stderr"
        },
        {
          "output_type": "stream",
          "text": [
            "=============== Epoch: 2\n"
          ],
          "name": "stdout"
        },
        {
          "output_type": "stream",
          "text": [
            "214it [00:35,  5.94it/s]\n",
            "1it [00:00,  5.91it/s]"
          ],
          "name": "stderr"
        },
        {
          "output_type": "stream",
          "text": [
            "=============== Epoch: 3\n"
          ],
          "name": "stdout"
        },
        {
          "output_type": "stream",
          "text": [
            "214it [00:35,  5.96it/s]\n",
            "1it [00:00,  5.99it/s]"
          ],
          "name": "stderr"
        },
        {
          "output_type": "stream",
          "text": [
            "=============== Epoch: 4\n"
          ],
          "name": "stdout"
        },
        {
          "output_type": "stream",
          "text": [
            "214it [00:35,  5.96it/s]\n",
            "1it [00:00,  5.97it/s]"
          ],
          "name": "stderr"
        },
        {
          "output_type": "stream",
          "text": [
            "=============== Epoch: 5\n"
          ],
          "name": "stdout"
        },
        {
          "output_type": "stream",
          "text": [
            "214it [00:35,  5.96it/s]\n",
            "1it [00:00,  6.00it/s]"
          ],
          "name": "stderr"
        },
        {
          "output_type": "stream",
          "text": [
            "=============== Epoch: 6\n"
          ],
          "name": "stdout"
        },
        {
          "output_type": "stream",
          "text": [
            "214it [00:35,  5.95it/s]\n",
            "1it [00:00,  5.93it/s]"
          ],
          "name": "stderr"
        },
        {
          "output_type": "stream",
          "text": [
            "=============== Epoch: 7\n"
          ],
          "name": "stdout"
        },
        {
          "output_type": "stream",
          "text": [
            "214it [00:36,  5.90it/s]\n",
            "1it [00:00,  5.99it/s]"
          ],
          "name": "stderr"
        },
        {
          "output_type": "stream",
          "text": [
            "=============== Epoch: 8\n"
          ],
          "name": "stdout"
        },
        {
          "output_type": "stream",
          "text": [
            "214it [00:35,  5.96it/s]\n",
            "1it [00:00,  5.91it/s]"
          ],
          "name": "stderr"
        },
        {
          "output_type": "stream",
          "text": [
            "=============== Epoch: 9\n"
          ],
          "name": "stdout"
        },
        {
          "output_type": "stream",
          "text": [
            "214it [00:36,  5.94it/s]\n",
            "1it [00:00,  6.00it/s]"
          ],
          "name": "stderr"
        },
        {
          "output_type": "stream",
          "text": [
            "=============== Epoch: 10\n"
          ],
          "name": "stdout"
        },
        {
          "output_type": "stream",
          "text": [
            "214it [00:35,  5.96it/s]\n",
            "1it [00:00,  5.92it/s]"
          ],
          "name": "stderr"
        },
        {
          "output_type": "stream",
          "text": [
            "=============== Epoch: 11\n"
          ],
          "name": "stdout"
        },
        {
          "output_type": "stream",
          "text": [
            "214it [00:35,  5.95it/s]\n",
            "1it [00:00,  5.93it/s]"
          ],
          "name": "stderr"
        },
        {
          "output_type": "stream",
          "text": [
            "=============== Epoch: 12\n"
          ],
          "name": "stdout"
        },
        {
          "output_type": "stream",
          "text": [
            "214it [00:35,  5.96it/s]\n",
            "1it [00:00,  5.94it/s]"
          ],
          "name": "stderr"
        },
        {
          "output_type": "stream",
          "text": [
            "=============== Epoch: 13\n"
          ],
          "name": "stdout"
        },
        {
          "output_type": "stream",
          "text": [
            "214it [00:35,  5.98it/s]\n",
            "1it [00:00,  6.00it/s]"
          ],
          "name": "stderr"
        },
        {
          "output_type": "stream",
          "text": [
            "=============== Epoch: 14\n"
          ],
          "name": "stdout"
        },
        {
          "output_type": "stream",
          "text": [
            "214it [00:36,  5.94it/s]\n",
            "1it [00:00,  6.00it/s]"
          ],
          "name": "stderr"
        },
        {
          "output_type": "stream",
          "text": [
            "=============== Epoch: 15\n"
          ],
          "name": "stdout"
        },
        {
          "output_type": "stream",
          "text": [
            "214it [00:35,  5.97it/s]\n",
            "1it [00:00,  5.98it/s]"
          ],
          "name": "stderr"
        },
        {
          "output_type": "stream",
          "text": [
            "=============== Epoch: 16\n"
          ],
          "name": "stdout"
        },
        {
          "output_type": "stream",
          "text": [
            "214it [00:36,  5.94it/s]\n",
            "1it [00:00,  5.90it/s]"
          ],
          "name": "stderr"
        },
        {
          "output_type": "stream",
          "text": [
            "=============== Epoch: 17\n"
          ],
          "name": "stdout"
        },
        {
          "output_type": "stream",
          "text": [
            "214it [00:35,  5.95it/s]\n",
            "1it [00:00,  6.01it/s]"
          ],
          "name": "stderr"
        },
        {
          "output_type": "stream",
          "text": [
            "=============== Epoch: 18\n"
          ],
          "name": "stdout"
        },
        {
          "output_type": "stream",
          "text": [
            "214it [00:35,  5.97it/s]\n",
            "1it [00:00,  5.83it/s]"
          ],
          "name": "stderr"
        },
        {
          "output_type": "stream",
          "text": [
            "=============== Epoch: 19\n"
          ],
          "name": "stdout"
        },
        {
          "output_type": "stream",
          "text": [
            "214it [00:35,  5.98it/s]\n",
            "1it [00:00,  5.86it/s]"
          ],
          "name": "stderr"
        },
        {
          "output_type": "stream",
          "text": [
            "=============== Epoch: 20\n"
          ],
          "name": "stdout"
        },
        {
          "output_type": "stream",
          "text": [
            "214it [00:35,  5.98it/s]\n",
            "1it [00:00,  5.96it/s]"
          ],
          "name": "stderr"
        },
        {
          "output_type": "stream",
          "text": [
            "=============== Epoch: 21\n"
          ],
          "name": "stdout"
        },
        {
          "output_type": "stream",
          "text": [
            "214it [00:35,  5.97it/s]\n",
            "1it [00:00,  5.97it/s]"
          ],
          "name": "stderr"
        },
        {
          "output_type": "stream",
          "text": [
            "=============== Epoch: 22\n"
          ],
          "name": "stdout"
        },
        {
          "output_type": "stream",
          "text": [
            "214it [00:35,  5.96it/s]\n",
            "1it [00:00,  5.97it/s]"
          ],
          "name": "stderr"
        },
        {
          "output_type": "stream",
          "text": [
            "=============== Epoch: 23\n"
          ],
          "name": "stdout"
        },
        {
          "output_type": "stream",
          "text": [
            "214it [00:35,  5.97it/s]\n",
            "1it [00:00,  5.79it/s]"
          ],
          "name": "stderr"
        },
        {
          "output_type": "stream",
          "text": [
            "=============== Epoch: 24\n"
          ],
          "name": "stdout"
        },
        {
          "output_type": "stream",
          "text": [
            "214it [00:36,  5.93it/s]\n",
            "1it [00:00,  5.63it/s]"
          ],
          "name": "stderr"
        },
        {
          "output_type": "stream",
          "text": [
            "=============== Epoch: 25\n"
          ],
          "name": "stdout"
        },
        {
          "output_type": "stream",
          "text": [
            "214it [00:36,  5.94it/s]\n",
            "1it [00:00,  6.12it/s]"
          ],
          "name": "stderr"
        },
        {
          "output_type": "stream",
          "text": [
            "=============== Epoch: 26\n"
          ],
          "name": "stdout"
        },
        {
          "output_type": "stream",
          "text": [
            "214it [00:35,  5.96it/s]\n",
            "1it [00:00,  6.02it/s]"
          ],
          "name": "stderr"
        },
        {
          "output_type": "stream",
          "text": [
            "=============== Epoch: 27\n"
          ],
          "name": "stdout"
        },
        {
          "output_type": "stream",
          "text": [
            "214it [00:35,  5.97it/s]\n",
            "1it [00:00,  5.91it/s]"
          ],
          "name": "stderr"
        },
        {
          "output_type": "stream",
          "text": [
            "=============== Epoch: 28\n"
          ],
          "name": "stdout"
        },
        {
          "output_type": "stream",
          "text": [
            "214it [00:35,  5.97it/s]\n",
            "1it [00:00,  6.01it/s]"
          ],
          "name": "stderr"
        },
        {
          "output_type": "stream",
          "text": [
            "=============== Epoch: 29\n"
          ],
          "name": "stdout"
        },
        {
          "output_type": "stream",
          "text": [
            "214it [00:36,  5.94it/s]\n",
            "1it [00:00,  5.97it/s]"
          ],
          "name": "stderr"
        },
        {
          "output_type": "stream",
          "text": [
            "=============== Epoch: 30\n"
          ],
          "name": "stdout"
        },
        {
          "output_type": "stream",
          "text": [
            "214it [00:36,  5.93it/s]\n",
            "1it [00:00,  5.87it/s]"
          ],
          "name": "stderr"
        },
        {
          "output_type": "stream",
          "text": [
            "=============== Epoch: 31\n"
          ],
          "name": "stdout"
        },
        {
          "output_type": "stream",
          "text": [
            "214it [00:35,  5.97it/s]\n",
            "1it [00:00,  6.11it/s]"
          ],
          "name": "stderr"
        },
        {
          "output_type": "stream",
          "text": [
            "=============== Epoch: 32\n"
          ],
          "name": "stdout"
        },
        {
          "output_type": "stream",
          "text": [
            "214it [00:35,  5.97it/s]\n",
            "1it [00:00,  6.00it/s]"
          ],
          "name": "stderr"
        },
        {
          "output_type": "stream",
          "text": [
            "=============== Epoch: 33\n"
          ],
          "name": "stdout"
        },
        {
          "output_type": "stream",
          "text": [
            "214it [00:35,  5.98it/s]\n",
            "1it [00:00,  5.98it/s]"
          ],
          "name": "stderr"
        },
        {
          "output_type": "stream",
          "text": [
            "=============== Epoch: 34\n"
          ],
          "name": "stdout"
        },
        {
          "output_type": "stream",
          "text": [
            "214it [00:36,  5.93it/s]\n",
            "1it [00:00,  5.75it/s]"
          ],
          "name": "stderr"
        },
        {
          "output_type": "stream",
          "text": [
            "Train Log of run  2\n",
            "=============== Epoch: 0\n"
          ],
          "name": "stdout"
        },
        {
          "output_type": "stream",
          "text": [
            "214it [00:36,  5.94it/s]\n",
            "1it [00:00,  5.90it/s]"
          ],
          "name": "stderr"
        },
        {
          "output_type": "stream",
          "text": [
            "=============== Epoch: 1\n"
          ],
          "name": "stdout"
        },
        {
          "output_type": "stream",
          "text": [
            "214it [00:35,  5.96it/s]\n",
            "1it [00:00,  5.91it/s]"
          ],
          "name": "stderr"
        },
        {
          "output_type": "stream",
          "text": [
            "=============== Epoch: 2\n"
          ],
          "name": "stdout"
        },
        {
          "output_type": "stream",
          "text": [
            "214it [00:35,  5.98it/s]\n",
            "1it [00:00,  6.02it/s]"
          ],
          "name": "stderr"
        },
        {
          "output_type": "stream",
          "text": [
            "=============== Epoch: 3\n"
          ],
          "name": "stdout"
        },
        {
          "output_type": "stream",
          "text": [
            "214it [00:35,  5.96it/s]\n",
            "1it [00:00,  5.83it/s]"
          ],
          "name": "stderr"
        },
        {
          "output_type": "stream",
          "text": [
            "=============== Epoch: 4\n"
          ],
          "name": "stdout"
        },
        {
          "output_type": "stream",
          "text": [
            "214it [00:35,  5.96it/s]\n",
            "1it [00:00,  5.98it/s]"
          ],
          "name": "stderr"
        },
        {
          "output_type": "stream",
          "text": [
            "=============== Epoch: 5\n"
          ],
          "name": "stdout"
        },
        {
          "output_type": "stream",
          "text": [
            "214it [00:35,  5.96it/s]\n",
            "1it [00:00,  5.74it/s]"
          ],
          "name": "stderr"
        },
        {
          "output_type": "stream",
          "text": [
            "=============== Epoch: 6\n"
          ],
          "name": "stdout"
        },
        {
          "output_type": "stream",
          "text": [
            "214it [00:36,  5.92it/s]\n",
            "1it [00:00,  5.82it/s]"
          ],
          "name": "stderr"
        },
        {
          "output_type": "stream",
          "text": [
            "=============== Epoch: 7\n"
          ],
          "name": "stdout"
        },
        {
          "output_type": "stream",
          "text": [
            "214it [00:36,  5.92it/s]\n",
            "1it [00:00,  5.76it/s]"
          ],
          "name": "stderr"
        },
        {
          "output_type": "stream",
          "text": [
            "=============== Epoch: 8\n"
          ],
          "name": "stdout"
        },
        {
          "output_type": "stream",
          "text": [
            "214it [00:36,  5.94it/s]\n",
            "1it [00:00,  5.90it/s]"
          ],
          "name": "stderr"
        },
        {
          "output_type": "stream",
          "text": [
            "=============== Epoch: 9\n"
          ],
          "name": "stdout"
        },
        {
          "output_type": "stream",
          "text": [
            "214it [00:36,  5.91it/s]\n",
            "1it [00:00,  5.96it/s]"
          ],
          "name": "stderr"
        },
        {
          "output_type": "stream",
          "text": [
            "=============== Epoch: 10\n"
          ],
          "name": "stdout"
        },
        {
          "output_type": "stream",
          "text": [
            "214it [00:35,  5.97it/s]\n",
            "1it [00:00,  5.99it/s]"
          ],
          "name": "stderr"
        },
        {
          "output_type": "stream",
          "text": [
            "=============== Epoch: 11\n"
          ],
          "name": "stdout"
        },
        {
          "output_type": "stream",
          "text": [
            "214it [00:36,  5.94it/s]\n",
            "1it [00:00,  5.87it/s]"
          ],
          "name": "stderr"
        },
        {
          "output_type": "stream",
          "text": [
            "=============== Epoch: 12\n"
          ],
          "name": "stdout"
        },
        {
          "output_type": "stream",
          "text": [
            "214it [00:36,  5.93it/s]\n",
            "1it [00:00,  5.83it/s]"
          ],
          "name": "stderr"
        },
        {
          "output_type": "stream",
          "text": [
            "=============== Epoch: 13\n"
          ],
          "name": "stdout"
        },
        {
          "output_type": "stream",
          "text": [
            "214it [00:36,  5.93it/s]\n",
            "1it [00:00,  5.89it/s]"
          ],
          "name": "stderr"
        },
        {
          "output_type": "stream",
          "text": [
            "=============== Epoch: 14\n"
          ],
          "name": "stdout"
        },
        {
          "output_type": "stream",
          "text": [
            "214it [00:36,  5.93it/s]\n",
            "1it [00:00,  5.95it/s]"
          ],
          "name": "stderr"
        },
        {
          "output_type": "stream",
          "text": [
            "=============== Epoch: 15\n"
          ],
          "name": "stdout"
        },
        {
          "output_type": "stream",
          "text": [
            "214it [00:36,  5.93it/s]\n",
            "1it [00:00,  5.89it/s]"
          ],
          "name": "stderr"
        },
        {
          "output_type": "stream",
          "text": [
            "=============== Epoch: 16\n"
          ],
          "name": "stdout"
        },
        {
          "output_type": "stream",
          "text": [
            "214it [00:36,  5.94it/s]\n",
            "1it [00:00,  5.86it/s]"
          ],
          "name": "stderr"
        },
        {
          "output_type": "stream",
          "text": [
            "=============== Epoch: 17\n"
          ],
          "name": "stdout"
        },
        {
          "output_type": "stream",
          "text": [
            "214it [00:36,  5.92it/s]\n",
            "1it [00:00,  5.96it/s]"
          ],
          "name": "stderr"
        },
        {
          "output_type": "stream",
          "text": [
            "=============== Epoch: 18\n"
          ],
          "name": "stdout"
        },
        {
          "output_type": "stream",
          "text": [
            "214it [00:35,  5.96it/s]\n",
            "1it [00:00,  5.98it/s]"
          ],
          "name": "stderr"
        },
        {
          "output_type": "stream",
          "text": [
            "=============== Epoch: 19\n"
          ],
          "name": "stdout"
        },
        {
          "output_type": "stream",
          "text": [
            "214it [00:35,  5.95it/s]\n",
            "1it [00:00,  5.88it/s]"
          ],
          "name": "stderr"
        },
        {
          "output_type": "stream",
          "text": [
            "=============== Epoch: 20\n"
          ],
          "name": "stdout"
        },
        {
          "output_type": "stream",
          "text": [
            "214it [00:36,  5.92it/s]\n",
            "1it [00:00,  6.03it/s]"
          ],
          "name": "stderr"
        },
        {
          "output_type": "stream",
          "text": [
            "=============== Epoch: 21\n"
          ],
          "name": "stdout"
        },
        {
          "output_type": "stream",
          "text": [
            "214it [00:36,  5.93it/s]\n",
            "1it [00:00,  5.91it/s]"
          ],
          "name": "stderr"
        },
        {
          "output_type": "stream",
          "text": [
            "=============== Epoch: 22\n"
          ],
          "name": "stdout"
        },
        {
          "output_type": "stream",
          "text": [
            "214it [00:36,  5.93it/s]\n",
            "1it [00:00,  5.99it/s]"
          ],
          "name": "stderr"
        },
        {
          "output_type": "stream",
          "text": [
            "=============== Epoch: 23\n"
          ],
          "name": "stdout"
        },
        {
          "output_type": "stream",
          "text": [
            "214it [00:35,  5.95it/s]\n",
            "1it [00:00,  6.02it/s]"
          ],
          "name": "stderr"
        },
        {
          "output_type": "stream",
          "text": [
            "=============== Epoch: 24\n"
          ],
          "name": "stdout"
        },
        {
          "output_type": "stream",
          "text": [
            "214it [00:36,  5.92it/s]\n",
            "1it [00:00,  5.93it/s]"
          ],
          "name": "stderr"
        },
        {
          "output_type": "stream",
          "text": [
            "=============== Epoch: 25\n"
          ],
          "name": "stdout"
        },
        {
          "output_type": "stream",
          "text": [
            "214it [00:36,  5.92it/s]\n",
            "1it [00:00,  5.95it/s]"
          ],
          "name": "stderr"
        },
        {
          "output_type": "stream",
          "text": [
            "=============== Epoch: 26\n"
          ],
          "name": "stdout"
        },
        {
          "output_type": "stream",
          "text": [
            "214it [00:35,  5.96it/s]\n",
            "1it [00:00,  5.86it/s]"
          ],
          "name": "stderr"
        },
        {
          "output_type": "stream",
          "text": [
            "=============== Epoch: 27\n"
          ],
          "name": "stdout"
        },
        {
          "output_type": "stream",
          "text": [
            "214it [00:36,  5.94it/s]\n",
            "1it [00:00,  5.89it/s]"
          ],
          "name": "stderr"
        },
        {
          "output_type": "stream",
          "text": [
            "=============== Epoch: 28\n"
          ],
          "name": "stdout"
        },
        {
          "output_type": "stream",
          "text": [
            "214it [00:36,  5.94it/s]\n",
            "1it [00:00,  5.88it/s]"
          ],
          "name": "stderr"
        },
        {
          "output_type": "stream",
          "text": [
            "=============== Epoch: 29\n"
          ],
          "name": "stdout"
        },
        {
          "output_type": "stream",
          "text": [
            "214it [00:36,  5.91it/s]\n",
            "1it [00:00,  5.94it/s]"
          ],
          "name": "stderr"
        },
        {
          "output_type": "stream",
          "text": [
            "=============== Epoch: 30\n"
          ],
          "name": "stdout"
        },
        {
          "output_type": "stream",
          "text": [
            "214it [00:35,  5.95it/s]\n",
            "1it [00:00,  5.78it/s]"
          ],
          "name": "stderr"
        },
        {
          "output_type": "stream",
          "text": [
            "=============== Epoch: 31\n"
          ],
          "name": "stdout"
        },
        {
          "output_type": "stream",
          "text": [
            "214it [00:35,  5.96it/s]\n",
            "1it [00:00,  6.00it/s]"
          ],
          "name": "stderr"
        },
        {
          "output_type": "stream",
          "text": [
            "=============== Epoch: 32\n"
          ],
          "name": "stdout"
        },
        {
          "output_type": "stream",
          "text": [
            "214it [00:36,  5.93it/s]\n",
            "1it [00:00,  5.70it/s]"
          ],
          "name": "stderr"
        },
        {
          "output_type": "stream",
          "text": [
            "=============== Epoch: 33\n"
          ],
          "name": "stdout"
        },
        {
          "output_type": "stream",
          "text": [
            "214it [00:36,  5.94it/s]\n",
            "1it [00:00,  6.03it/s]"
          ],
          "name": "stderr"
        },
        {
          "output_type": "stream",
          "text": [
            "=============== Epoch: 34\n"
          ],
          "name": "stdout"
        },
        {
          "output_type": "stream",
          "text": [
            "214it [00:35,  5.96it/s]\n",
            "1it [00:00,  5.71it/s]"
          ],
          "name": "stderr"
        },
        {
          "output_type": "stream",
          "text": [
            "Train Log of run  3\n",
            "=============== Epoch: 0\n"
          ],
          "name": "stdout"
        },
        {
          "output_type": "stream",
          "text": [
            "214it [00:35,  5.95it/s]\n",
            "1it [00:00,  5.89it/s]"
          ],
          "name": "stderr"
        },
        {
          "output_type": "stream",
          "text": [
            "=============== Epoch: 1\n"
          ],
          "name": "stdout"
        },
        {
          "output_type": "stream",
          "text": [
            "214it [00:36,  5.94it/s]\n",
            "1it [00:00,  5.91it/s]"
          ],
          "name": "stderr"
        },
        {
          "output_type": "stream",
          "text": [
            "=============== Epoch: 2\n"
          ],
          "name": "stdout"
        },
        {
          "output_type": "stream",
          "text": [
            "214it [00:36,  5.94it/s]\n",
            "1it [00:00,  5.99it/s]"
          ],
          "name": "stderr"
        },
        {
          "output_type": "stream",
          "text": [
            "=============== Epoch: 3\n"
          ],
          "name": "stdout"
        },
        {
          "output_type": "stream",
          "text": [
            "214it [00:35,  5.96it/s]\n",
            "1it [00:00,  5.81it/s]"
          ],
          "name": "stderr"
        },
        {
          "output_type": "stream",
          "text": [
            "=============== Epoch: 4\n"
          ],
          "name": "stdout"
        },
        {
          "output_type": "stream",
          "text": [
            "214it [00:35,  5.96it/s]\n",
            "1it [00:00,  5.92it/s]"
          ],
          "name": "stderr"
        },
        {
          "output_type": "stream",
          "text": [
            "=============== Epoch: 5\n"
          ],
          "name": "stdout"
        },
        {
          "output_type": "stream",
          "text": [
            "214it [00:35,  5.95it/s]\n",
            "1it [00:00,  5.88it/s]"
          ],
          "name": "stderr"
        },
        {
          "output_type": "stream",
          "text": [
            "=============== Epoch: 6\n"
          ],
          "name": "stdout"
        },
        {
          "output_type": "stream",
          "text": [
            "214it [00:36,  5.94it/s]\n",
            "1it [00:00,  5.87it/s]"
          ],
          "name": "stderr"
        },
        {
          "output_type": "stream",
          "text": [
            "=============== Epoch: 7\n"
          ],
          "name": "stdout"
        },
        {
          "output_type": "stream",
          "text": [
            "214it [00:36,  5.94it/s]\n",
            "1it [00:00,  5.80it/s]"
          ],
          "name": "stderr"
        },
        {
          "output_type": "stream",
          "text": [
            "=============== Epoch: 8\n"
          ],
          "name": "stdout"
        },
        {
          "output_type": "stream",
          "text": [
            "214it [00:35,  5.97it/s]\n",
            "1it [00:00,  5.92it/s]"
          ],
          "name": "stderr"
        },
        {
          "output_type": "stream",
          "text": [
            "=============== Epoch: 9\n"
          ],
          "name": "stdout"
        },
        {
          "output_type": "stream",
          "text": [
            "214it [00:35,  5.96it/s]\n",
            "1it [00:00,  5.99it/s]"
          ],
          "name": "stderr"
        },
        {
          "output_type": "stream",
          "text": [
            "=============== Epoch: 10\n"
          ],
          "name": "stdout"
        },
        {
          "output_type": "stream",
          "text": [
            "214it [00:35,  5.95it/s]\n",
            "1it [00:00,  5.94it/s]"
          ],
          "name": "stderr"
        },
        {
          "output_type": "stream",
          "text": [
            "=============== Epoch: 11\n"
          ],
          "name": "stdout"
        },
        {
          "output_type": "stream",
          "text": [
            "214it [00:36,  5.91it/s]\n",
            "1it [00:00,  6.07it/s]"
          ],
          "name": "stderr"
        },
        {
          "output_type": "stream",
          "text": [
            "=============== Epoch: 12\n"
          ],
          "name": "stdout"
        },
        {
          "output_type": "stream",
          "text": [
            "214it [00:35,  5.96it/s]\n",
            "1it [00:00,  5.98it/s]"
          ],
          "name": "stderr"
        },
        {
          "output_type": "stream",
          "text": [
            "=============== Epoch: 13\n"
          ],
          "name": "stdout"
        },
        {
          "output_type": "stream",
          "text": [
            "214it [00:36,  5.94it/s]\n",
            "1it [00:00,  5.87it/s]"
          ],
          "name": "stderr"
        },
        {
          "output_type": "stream",
          "text": [
            "=============== Epoch: 14\n"
          ],
          "name": "stdout"
        },
        {
          "output_type": "stream",
          "text": [
            "214it [00:36,  5.93it/s]\n",
            "1it [00:00,  5.92it/s]"
          ],
          "name": "stderr"
        },
        {
          "output_type": "stream",
          "text": [
            "=============== Epoch: 15\n"
          ],
          "name": "stdout"
        },
        {
          "output_type": "stream",
          "text": [
            "214it [00:35,  5.95it/s]\n",
            "1it [00:00,  5.83it/s]"
          ],
          "name": "stderr"
        },
        {
          "output_type": "stream",
          "text": [
            "=============== Epoch: 16\n"
          ],
          "name": "stdout"
        },
        {
          "output_type": "stream",
          "text": [
            "214it [00:36,  5.94it/s]\n",
            "1it [00:00,  5.95it/s]"
          ],
          "name": "stderr"
        },
        {
          "output_type": "stream",
          "text": [
            "=============== Epoch: 17\n"
          ],
          "name": "stdout"
        },
        {
          "output_type": "stream",
          "text": [
            "214it [00:35,  5.96it/s]\n",
            "1it [00:00,  6.02it/s]"
          ],
          "name": "stderr"
        },
        {
          "output_type": "stream",
          "text": [
            "=============== Epoch: 18\n"
          ],
          "name": "stdout"
        },
        {
          "output_type": "stream",
          "text": [
            "214it [00:36,  5.92it/s]\n",
            "1it [00:00,  5.78it/s]"
          ],
          "name": "stderr"
        },
        {
          "output_type": "stream",
          "text": [
            "=============== Epoch: 19\n"
          ],
          "name": "stdout"
        },
        {
          "output_type": "stream",
          "text": [
            "214it [00:35,  5.95it/s]\n",
            "1it [00:00,  5.78it/s]"
          ],
          "name": "stderr"
        },
        {
          "output_type": "stream",
          "text": [
            "=============== Epoch: 20\n"
          ],
          "name": "stdout"
        },
        {
          "output_type": "stream",
          "text": [
            "214it [00:35,  5.95it/s]\n",
            "1it [00:00,  6.01it/s]"
          ],
          "name": "stderr"
        },
        {
          "output_type": "stream",
          "text": [
            "=============== Epoch: 21\n"
          ],
          "name": "stdout"
        },
        {
          "output_type": "stream",
          "text": [
            "214it [00:35,  5.96it/s]\n",
            "1it [00:00,  5.88it/s]"
          ],
          "name": "stderr"
        },
        {
          "output_type": "stream",
          "text": [
            "=============== Epoch: 22\n"
          ],
          "name": "stdout"
        },
        {
          "output_type": "stream",
          "text": [
            "214it [00:35,  5.96it/s]\n",
            "1it [00:00,  5.87it/s]"
          ],
          "name": "stderr"
        },
        {
          "output_type": "stream",
          "text": [
            "=============== Epoch: 23\n"
          ],
          "name": "stdout"
        },
        {
          "output_type": "stream",
          "text": [
            "214it [00:35,  5.95it/s]\n",
            "1it [00:00,  5.99it/s]"
          ],
          "name": "stderr"
        },
        {
          "output_type": "stream",
          "text": [
            "=============== Epoch: 24\n"
          ],
          "name": "stdout"
        },
        {
          "output_type": "stream",
          "text": [
            "214it [00:35,  5.95it/s]\n",
            "1it [00:00,  5.89it/s]"
          ],
          "name": "stderr"
        },
        {
          "output_type": "stream",
          "text": [
            "=============== Epoch: 25\n"
          ],
          "name": "stdout"
        },
        {
          "output_type": "stream",
          "text": [
            "214it [00:35,  5.95it/s]\n",
            "1it [00:00,  5.85it/s]"
          ],
          "name": "stderr"
        },
        {
          "output_type": "stream",
          "text": [
            "=============== Epoch: 26\n"
          ],
          "name": "stdout"
        },
        {
          "output_type": "stream",
          "text": [
            "214it [00:36,  5.92it/s]\n",
            "1it [00:00,  6.00it/s]"
          ],
          "name": "stderr"
        },
        {
          "output_type": "stream",
          "text": [
            "=============== Epoch: 27\n"
          ],
          "name": "stdout"
        },
        {
          "output_type": "stream",
          "text": [
            "214it [00:35,  5.96it/s]\n",
            "1it [00:00,  5.96it/s]"
          ],
          "name": "stderr"
        },
        {
          "output_type": "stream",
          "text": [
            "=============== Epoch: 28\n"
          ],
          "name": "stdout"
        },
        {
          "output_type": "stream",
          "text": [
            "214it [00:35,  5.96it/s]\n",
            "1it [00:00,  5.94it/s]"
          ],
          "name": "stderr"
        },
        {
          "output_type": "stream",
          "text": [
            "=============== Epoch: 29\n"
          ],
          "name": "stdout"
        },
        {
          "output_type": "stream",
          "text": [
            "214it [00:35,  5.96it/s]\n",
            "1it [00:00,  5.84it/s]"
          ],
          "name": "stderr"
        },
        {
          "output_type": "stream",
          "text": [
            "=============== Epoch: 30\n"
          ],
          "name": "stdout"
        },
        {
          "output_type": "stream",
          "text": [
            "214it [00:35,  5.96it/s]\n",
            "1it [00:00,  5.91it/s]"
          ],
          "name": "stderr"
        },
        {
          "output_type": "stream",
          "text": [
            "=============== Epoch: 31\n"
          ],
          "name": "stdout"
        },
        {
          "output_type": "stream",
          "text": [
            "214it [00:35,  5.95it/s]\n",
            "1it [00:00,  5.95it/s]"
          ],
          "name": "stderr"
        },
        {
          "output_type": "stream",
          "text": [
            "=============== Epoch: 32\n"
          ],
          "name": "stdout"
        },
        {
          "output_type": "stream",
          "text": [
            "214it [00:35,  5.95it/s]\n",
            "1it [00:00,  5.93it/s]"
          ],
          "name": "stderr"
        },
        {
          "output_type": "stream",
          "text": [
            "=============== Epoch: 33\n"
          ],
          "name": "stdout"
        },
        {
          "output_type": "stream",
          "text": [
            "214it [00:35,  5.96it/s]\n",
            "1it [00:00,  5.86it/s]"
          ],
          "name": "stderr"
        },
        {
          "output_type": "stream",
          "text": [
            "=============== Epoch: 34\n"
          ],
          "name": "stdout"
        },
        {
          "output_type": "stream",
          "text": [
            "214it [00:35,  5.95it/s]\n",
            "1it [00:00,  5.72it/s]"
          ],
          "name": "stderr"
        },
        {
          "output_type": "stream",
          "text": [
            "Train Log of run  4\n",
            "=============== Epoch: 0\n"
          ],
          "name": "stdout"
        },
        {
          "output_type": "stream",
          "text": [
            "214it [00:35,  5.97it/s]\n",
            "1it [00:00,  5.96it/s]"
          ],
          "name": "stderr"
        },
        {
          "output_type": "stream",
          "text": [
            "=============== Epoch: 1\n"
          ],
          "name": "stdout"
        },
        {
          "output_type": "stream",
          "text": [
            "214it [00:36,  5.94it/s]\n",
            "1it [00:00,  5.95it/s]"
          ],
          "name": "stderr"
        },
        {
          "output_type": "stream",
          "text": [
            "=============== Epoch: 2\n"
          ],
          "name": "stdout"
        },
        {
          "output_type": "stream",
          "text": [
            "214it [00:35,  5.95it/s]\n",
            "1it [00:00,  5.74it/s]"
          ],
          "name": "stderr"
        },
        {
          "output_type": "stream",
          "text": [
            "=============== Epoch: 3\n"
          ],
          "name": "stdout"
        },
        {
          "output_type": "stream",
          "text": [
            "214it [00:35,  5.95it/s]\n",
            "1it [00:00,  5.87it/s]"
          ],
          "name": "stderr"
        },
        {
          "output_type": "stream",
          "text": [
            "=============== Epoch: 4\n"
          ],
          "name": "stdout"
        },
        {
          "output_type": "stream",
          "text": [
            "214it [00:36,  5.90it/s]\n",
            "1it [00:00,  6.01it/s]"
          ],
          "name": "stderr"
        },
        {
          "output_type": "stream",
          "text": [
            "=============== Epoch: 5\n"
          ],
          "name": "stdout"
        },
        {
          "output_type": "stream",
          "text": [
            "214it [00:36,  5.94it/s]\n",
            "1it [00:00,  5.95it/s]"
          ],
          "name": "stderr"
        },
        {
          "output_type": "stream",
          "text": [
            "=============== Epoch: 6\n"
          ],
          "name": "stdout"
        },
        {
          "output_type": "stream",
          "text": [
            "214it [00:35,  5.96it/s]\n",
            "1it [00:00,  5.78it/s]"
          ],
          "name": "stderr"
        },
        {
          "output_type": "stream",
          "text": [
            "=============== Epoch: 7\n"
          ],
          "name": "stdout"
        },
        {
          "output_type": "stream",
          "text": [
            "214it [00:36,  5.91it/s]\n",
            "1it [00:00,  5.95it/s]"
          ],
          "name": "stderr"
        },
        {
          "output_type": "stream",
          "text": [
            "=============== Epoch: 8\n"
          ],
          "name": "stdout"
        },
        {
          "output_type": "stream",
          "text": [
            "214it [00:36,  5.93it/s]\n",
            "1it [00:00,  5.86it/s]"
          ],
          "name": "stderr"
        },
        {
          "output_type": "stream",
          "text": [
            "=============== Epoch: 9\n"
          ],
          "name": "stdout"
        },
        {
          "output_type": "stream",
          "text": [
            "214it [00:36,  5.94it/s]\n",
            "1it [00:00,  6.07it/s]"
          ],
          "name": "stderr"
        },
        {
          "output_type": "stream",
          "text": [
            "=============== Epoch: 10\n"
          ],
          "name": "stdout"
        },
        {
          "output_type": "stream",
          "text": [
            "214it [00:36,  5.94it/s]\n",
            "1it [00:00,  5.96it/s]"
          ],
          "name": "stderr"
        },
        {
          "output_type": "stream",
          "text": [
            "=============== Epoch: 11\n"
          ],
          "name": "stdout"
        },
        {
          "output_type": "stream",
          "text": [
            "214it [00:35,  5.95it/s]\n",
            "1it [00:00,  5.87it/s]"
          ],
          "name": "stderr"
        },
        {
          "output_type": "stream",
          "text": [
            "=============== Epoch: 12\n"
          ],
          "name": "stdout"
        },
        {
          "output_type": "stream",
          "text": [
            "214it [00:36,  5.94it/s]\n",
            "1it [00:00,  6.02it/s]"
          ],
          "name": "stderr"
        },
        {
          "output_type": "stream",
          "text": [
            "=============== Epoch: 13\n"
          ],
          "name": "stdout"
        },
        {
          "output_type": "stream",
          "text": [
            "214it [00:35,  5.95it/s]\n",
            "1it [00:00,  5.90it/s]"
          ],
          "name": "stderr"
        },
        {
          "output_type": "stream",
          "text": [
            "=============== Epoch: 14\n"
          ],
          "name": "stdout"
        },
        {
          "output_type": "stream",
          "text": [
            "214it [00:36,  5.93it/s]\n",
            "1it [00:00,  5.92it/s]"
          ],
          "name": "stderr"
        },
        {
          "output_type": "stream",
          "text": [
            "=============== Epoch: 15\n"
          ],
          "name": "stdout"
        },
        {
          "output_type": "stream",
          "text": [
            "214it [00:36,  5.92it/s]\n",
            "1it [00:00,  5.80it/s]"
          ],
          "name": "stderr"
        },
        {
          "output_type": "stream",
          "text": [
            "=============== Epoch: 16\n"
          ],
          "name": "stdout"
        },
        {
          "output_type": "stream",
          "text": [
            "214it [00:35,  5.95it/s]\n",
            "1it [00:00,  5.95it/s]"
          ],
          "name": "stderr"
        },
        {
          "output_type": "stream",
          "text": [
            "=============== Epoch: 17\n"
          ],
          "name": "stdout"
        },
        {
          "output_type": "stream",
          "text": [
            "214it [00:35,  5.96it/s]\n",
            "1it [00:00,  5.74it/s]"
          ],
          "name": "stderr"
        },
        {
          "output_type": "stream",
          "text": [
            "=============== Epoch: 18\n"
          ],
          "name": "stdout"
        },
        {
          "output_type": "stream",
          "text": [
            "214it [00:36,  5.93it/s]\n",
            "1it [00:00,  5.85it/s]"
          ],
          "name": "stderr"
        },
        {
          "output_type": "stream",
          "text": [
            "=============== Epoch: 19\n"
          ],
          "name": "stdout"
        },
        {
          "output_type": "stream",
          "text": [
            "214it [00:36,  5.91it/s]\n",
            "1it [00:00,  5.97it/s]"
          ],
          "name": "stderr"
        },
        {
          "output_type": "stream",
          "text": [
            "=============== Epoch: 20\n"
          ],
          "name": "stdout"
        },
        {
          "output_type": "stream",
          "text": [
            "214it [00:35,  5.94it/s]\n",
            "1it [00:00,  5.95it/s]"
          ],
          "name": "stderr"
        },
        {
          "output_type": "stream",
          "text": [
            "=============== Epoch: 21\n"
          ],
          "name": "stdout"
        },
        {
          "output_type": "stream",
          "text": [
            "214it [00:35,  5.95it/s]\n",
            "1it [00:00,  5.95it/s]"
          ],
          "name": "stderr"
        },
        {
          "output_type": "stream",
          "text": [
            "=============== Epoch: 22\n"
          ],
          "name": "stdout"
        },
        {
          "output_type": "stream",
          "text": [
            "214it [00:36,  5.92it/s]\n",
            "1it [00:00,  5.91it/s]"
          ],
          "name": "stderr"
        },
        {
          "output_type": "stream",
          "text": [
            "=============== Epoch: 23\n"
          ],
          "name": "stdout"
        },
        {
          "output_type": "stream",
          "text": [
            "214it [00:36,  5.94it/s]\n",
            "1it [00:00,  5.78it/s]"
          ],
          "name": "stderr"
        },
        {
          "output_type": "stream",
          "text": [
            "=============== Epoch: 24\n"
          ],
          "name": "stdout"
        },
        {
          "output_type": "stream",
          "text": [
            "214it [00:36,  5.94it/s]\n",
            "1it [00:00,  5.76it/s]"
          ],
          "name": "stderr"
        },
        {
          "output_type": "stream",
          "text": [
            "=============== Epoch: 25\n"
          ],
          "name": "stdout"
        },
        {
          "output_type": "stream",
          "text": [
            "214it [00:35,  5.95it/s]\n",
            "1it [00:00,  6.01it/s]"
          ],
          "name": "stderr"
        },
        {
          "output_type": "stream",
          "text": [
            "=============== Epoch: 26\n"
          ],
          "name": "stdout"
        },
        {
          "output_type": "stream",
          "text": [
            "214it [00:36,  5.93it/s]\n",
            "1it [00:00,  5.81it/s]"
          ],
          "name": "stderr"
        },
        {
          "output_type": "stream",
          "text": [
            "=============== Epoch: 27\n"
          ],
          "name": "stdout"
        },
        {
          "output_type": "stream",
          "text": [
            "214it [00:36,  5.93it/s]\n",
            "1it [00:00,  5.88it/s]"
          ],
          "name": "stderr"
        },
        {
          "output_type": "stream",
          "text": [
            "=============== Epoch: 28\n"
          ],
          "name": "stdout"
        },
        {
          "output_type": "stream",
          "text": [
            "214it [00:35,  5.95it/s]\n",
            "1it [00:00,  5.75it/s]"
          ],
          "name": "stderr"
        },
        {
          "output_type": "stream",
          "text": [
            "=============== Epoch: 29\n"
          ],
          "name": "stdout"
        },
        {
          "output_type": "stream",
          "text": [
            "214it [00:35,  5.95it/s]\n",
            "1it [00:00,  5.88it/s]"
          ],
          "name": "stderr"
        },
        {
          "output_type": "stream",
          "text": [
            "=============== Epoch: 30\n"
          ],
          "name": "stdout"
        },
        {
          "output_type": "stream",
          "text": [
            "214it [00:36,  5.91it/s]\n",
            "1it [00:00,  5.97it/s]"
          ],
          "name": "stderr"
        },
        {
          "output_type": "stream",
          "text": [
            "=============== Epoch: 31\n"
          ],
          "name": "stdout"
        },
        {
          "output_type": "stream",
          "text": [
            "214it [00:36,  5.92it/s]\n",
            "1it [00:00,  5.88it/s]"
          ],
          "name": "stderr"
        },
        {
          "output_type": "stream",
          "text": [
            "=============== Epoch: 32\n"
          ],
          "name": "stdout"
        },
        {
          "output_type": "stream",
          "text": [
            "214it [00:35,  5.95it/s]\n",
            "1it [00:00,  5.81it/s]"
          ],
          "name": "stderr"
        },
        {
          "output_type": "stream",
          "text": [
            "=============== Epoch: 33\n"
          ],
          "name": "stdout"
        },
        {
          "output_type": "stream",
          "text": [
            "214it [00:35,  5.96it/s]\n",
            "1it [00:00,  5.87it/s]"
          ],
          "name": "stderr"
        },
        {
          "output_type": "stream",
          "text": [
            "=============== Epoch: 34\n"
          ],
          "name": "stdout"
        },
        {
          "output_type": "stream",
          "text": [
            "214it [00:35,  5.96it/s]\n"
          ],
          "name": "stderr"
        }
      ]
    },
    {
      "cell_type": "code",
      "metadata": {
        "id": "WYkkOjz3tmyn"
      },
      "source": [
        ""
      ],
      "execution_count": null,
      "outputs": []
    },
    {
      "cell_type": "code",
      "metadata": {
        "id": "ygeX4Nd06bzW"
      },
      "source": [
        ""
      ],
      "execution_count": null,
      "outputs": []
    },
    {
      "cell_type": "code",
      "metadata": {
        "id": "nynxzg1m6b2F"
      },
      "source": [
        ""
      ],
      "execution_count": null,
      "outputs": []
    },
    {
      "cell_type": "code",
      "metadata": {
        "colab": {
          "base_uri": "https://localhost:8080/",
          "height": 154
        },
        "id": "lUOfcKdO3Ze9",
        "outputId": "f303a0f1-9dda-4f52-b47f-9f52bfe1c156"
      },
      "source": [
        "'''\n",
        "\n",
        "train_losses = []\n",
        "val_losses = []\n",
        "test_losses = []\n",
        "\n",
        "for epoch in range(50):\n",
        "    print('='*15, f'Epoch: {epoch}')\n",
        "    \n",
        "#train_dp(model, trainloader, criterion, optimizer, lr_scheduler, phase='train')\n",
        "#test(model, testloader, criterion, optimizer, lr_scheduler, phase='test')\n",
        "\n",
        "    train_loss, train_acc, _, _ = train_dp(model, train_loader, criterion, optimizer, lr_scheduler)\n",
        "    #val_loss, val_acc, _, _ = test(model, test_loader, criterion, optimizer, lr_scheduler, phase='val')\n",
        "    test_loss, test_acc, _, _ = test(model, test_loader, criterion, optimizer, lr_scheduler, phase='val') ### IMPORTANT :::: Although this is test_dataloader, the name for phase is given as 'val', it is just a incorrect label and nothing else\n",
        "    #test_loss, test_acc, true_labels, pred_labels = run_epoch(model, test_dataloader, criterion, optimizer, lr_scheduler, phase='test')\n",
        "    \n",
        "    print()\n",
        "    print(f'Train loss: {train_loss}, Train accuracy: {train_acc}')\n",
        "    #print(f'Val loss: {val_loss}, Val accuracy: {val_acc}')\n",
        "    print(f'Test loss: {test_loss}, Test accuracy: {test_acc}')\n",
        "    print()\n",
        "    \n",
        "    train_losses.append(train_loss)\n",
        "    #val_losses.append(test_loss)\n",
        "    test_losses.append(test_loss)\n",
        "    \n",
        "    torch.save({'epoch': epoch, 'model': model.state_dict()}, f'covnet-{seed}.pt')\n",
        "    \n",
        "    if best_model is None or test_loss < best_loss:\n",
        "        best_model = copy.deepcopy(model)\n",
        "        #best_loss = val_loss\n",
        "        best_test_loss = test_loss\n",
        "        best_test_acc = test_acc \n",
        "        best_pred_labels = pred_labels\n",
        "        torch.save({'epoch': epoch, 'model': model.state_dict()}, f'covnet-{seed}.pt')\n",
        "\n",
        "'''"
      ],
      "execution_count": null,
      "outputs": [
        {
          "output_type": "execute_result",
          "data": {
            "application/vnd.google.colaboratory.intrinsic+json": {
              "type": "string"
            },
            "text/plain": [
              "\"\\n\\ntrain_losses = []\\nval_losses = []\\ntest_losses = []\\n\\nfor epoch in range(50):\\n    print('='*15, f'Epoch: {epoch}')\\n    \\n#train_dp(model, trainloader, criterion, optimizer, lr_scheduler, phase='train')\\n#test(model, testloader, criterion, optimizer, lr_scheduler, phase='test')\\n\\n    train_loss, train_acc, _, _ = train_dp(model, train_loader, criterion, optimizer, lr_scheduler)\\n    #val_loss, val_acc, _, _ = test(model, test_loader, criterion, optimizer, lr_scheduler, phase='val')\\n    test_loss, test_acc, _, _ = test(model, test_loader, criterion, optimizer, lr_scheduler, phase='val') ### IMPORTANT :::: Although this is test_dataloader, the name for phase is given as 'val', it is just a incorrect label and nothing else\\n    #test_loss, test_acc, true_labels, pred_labels = run_epoch(model, test_dataloader, criterion, optimizer, lr_scheduler, phase='test')\\n    \\n    print()\\n    print(f'Train loss: {train_loss}, Train accuracy: {train_acc}')\\n    #print(f'Val loss: {val_loss}, Val accuracy: {val_acc}')\\n    print(f'Test loss: {test_loss}, Test accuracy: {test_acc}')\\n    print()\\n    \\n    train_losses.append(train_loss)\\n    #val_losses.append(test_loss)\\n    test_losses.append(test_loss)\\n    \\n    torch.save({'epoch': epoch, 'model': model.state_dict()}, f'covnet-{seed}.pt')\\n    \\n    if best_model is None or test_loss < best_loss:\\n        best_model = copy.deepcopy(model)\\n        #best_loss = val_loss\\n        best_test_loss = test_loss\\n        best_test_acc = test_acc \\n        best_pred_labels = pred_labels\\n        torch.save({'epoch': epoch, 'model': model.state_dict()}, f'covnet-{seed}.pt')\\n\\n\""
            ]
          },
          "metadata": {
            "tags": []
          },
          "execution_count": 31
        }
      ]
    },
    {
      "cell_type": "code",
      "metadata": {
        "id": "E4bcUy2K5D9o"
      },
      "source": [
        ""
      ],
      "execution_count": null,
      "outputs": []
    },
    {
      "cell_type": "code",
      "metadata": {
        "colab": {
          "base_uri": "https://localhost:8080/",
          "height": 69
        },
        "id": "L3uNfHls_X-F",
        "outputId": "ff198799-25e6-4d36-a2f3-be0ef85f37bf"
      },
      "source": [
        "'''\n",
        "train_after_loss, train_after_acc, true_labels_train, pred_labels_train = test(model, train_loader, criterion, optimizer, lr_scheduler, phase='test')\n",
        "print(f'Train loss (After Training is Completed): {train_after_loss}, Train accuracy (After Training is Completed): {train_after_acc}')\n",
        "'''"
      ],
      "execution_count": null,
      "outputs": [
        {
          "output_type": "execute_result",
          "data": {
            "application/vnd.google.colaboratory.intrinsic+json": {
              "type": "string"
            },
            "text/plain": [
              "\"\\ntrain_after_loss, train_after_acc, true_labels_train, pred_labels_train = test(model, train_loader, criterion, optimizer, lr_scheduler, phase='test')\\nprint(f'Train loss (After Training is Completed): {train_after_loss}, Train accuracy (After Training is Completed): {train_after_acc}')\\n\""
            ]
          },
          "metadata": {
            "tags": []
          },
          "execution_count": 32
        }
      ]
    },
    {
      "cell_type": "code",
      "metadata": {
        "id": "rXtIBpmp_YAX"
      },
      "source": [
        ""
      ],
      "execution_count": null,
      "outputs": []
    },
    {
      "cell_type": "code",
      "metadata": {
        "colab": {
          "base_uri": "https://localhost:8080/",
          "height": 35
        },
        "id": "i1l-m5856nsk",
        "outputId": "6f7c9a48-9853-4902-c8a7-3d70e63d71f4"
      },
      "source": [
        "'''\n",
        "test_nrun_true_labels = []\n",
        "test_nrun_pred_labels = []\n",
        "test_nrun_acc = []\n",
        "'''"
      ],
      "execution_count": null,
      "outputs": [
        {
          "output_type": "execute_result",
          "data": {
            "application/vnd.google.colaboratory.intrinsic+json": {
              "type": "string"
            },
            "text/plain": [
              "'\\ntest_nrun_true_labels = []\\ntest_nrun_pred_labels = []\\ntest_nrun_acc = []\\n'"
            ]
          },
          "metadata": {
            "tags": []
          },
          "execution_count": 33
        }
      ]
    },
    {
      "cell_type": "code",
      "metadata": {
        "id": "mPSvPQsh7A0G"
      },
      "source": [
        "import numpy as np\n",
        "from sklearn.metrics import confusion_matrix\n",
        "\n",
        "runs = 5\n",
        "class_accuracy_nrun_test = []\n",
        "for run in range(runs):\n",
        "  conf_mat_test =confusion_matrix(test_nrun_true_labels[run], test_nrun_pred_labels[run])\n",
        "  class_accuracy_test=100*conf_mat_test.diagonal()/conf_mat_test.sum(1)\n",
        "  #print(class_accuracy_test)\n",
        "  class_accuracy_nrun_test.append(class_accuracy_test)\n",
        "\n",
        "mean_class_acc_test = np.mean(np.array(class_accuracy_nrun_test), axis=0)\n",
        "std_class_acc_test = np.std(np.array(class_accuracy_nrun_test), axis=0)"
      ],
      "execution_count": null,
      "outputs": []
    },
    {
      "cell_type": "code",
      "metadata": {
        "colab": {
          "base_uri": "https://localhost:8080/"
        },
        "id": "wFvta6mb8Qh6",
        "outputId": "02331943-1b28-4480-fa86-d1ebfad981cb"
      },
      "source": [
        "for label, acc in enumerate(mean_class_acc_test):\n",
        "  print(\"Average Test accuracy of class {} is {}\".format(str(label), str(round(acc, 2))+\"%\"))"
      ],
      "execution_count": null,
      "outputs": [
        {
          "output_type": "stream",
          "text": [
            "Average Test accuracy of class 0 is 96.65%\n",
            "Average Test accuracy of class 1 is 98.7%\n",
            "Average Test accuracy of class 2 is 90.0%\n",
            "Average Test accuracy of class 3 is 90.3%\n",
            "Average Test accuracy of class 4 is 89.59%\n",
            "Average Test accuracy of class 5 is 88.09%\n",
            "Average Test accuracy of class 6 is 93.76%\n",
            "Average Test accuracy of class 7 is 89.61%\n",
            "Average Test accuracy of class 8 is 20.24%\n",
            "Average Test accuracy of class 9 is 89.14%\n"
          ],
          "name": "stdout"
        }
      ]
    },
    {
      "cell_type": "code",
      "metadata": {
        "colab": {
          "base_uri": "https://localhost:8080/"
        },
        "id": "wAw8q-cF8Qkp",
        "outputId": "035cd02a-05c8-42d2-bf82-4f189268f673"
      },
      "source": [
        "for label, std_acc in enumerate(std_class_acc_test):\n",
        "  print(\"Standard Deviation of Test accuracy of class {} is {}\".format(str(label), str(round(std_acc, 2))+\"%\"))"
      ],
      "execution_count": null,
      "outputs": [
        {
          "output_type": "stream",
          "text": [
            "Standard Deviation of Test accuracy of class 0 is 0.33%\n",
            "Standard Deviation of Test accuracy of class 1 is 0.21%\n",
            "Standard Deviation of Test accuracy of class 2 is 1.03%\n",
            "Standard Deviation of Test accuracy of class 3 is 2.21%\n",
            "Standard Deviation of Test accuracy of class 4 is 2.74%\n",
            "Standard Deviation of Test accuracy of class 5 is 2.28%\n",
            "Standard Deviation of Test accuracy of class 6 is 1.95%\n",
            "Standard Deviation of Test accuracy of class 7 is 1.58%\n",
            "Standard Deviation of Test accuracy of class 8 is 17.15%\n",
            "Standard Deviation of Test accuracy of class 9 is 1.22%\n"
          ],
          "name": "stdout"
        }
      ]
    },
    {
      "cell_type": "code",
      "metadata": {
        "id": "BT1IBzwT82Pe"
      },
      "source": [
        ""
      ],
      "execution_count": null,
      "outputs": []
    },
    {
      "cell_type": "code",
      "metadata": {
        "colab": {
          "base_uri": "https://localhost:8080/",
          "height": 607
        },
        "id": "c8q6ptfc9cv0",
        "outputId": "3994df16-ccb6-4305-ebb0-a8b4315842c0"
      },
      "source": [
        "import matplotlib.pyplot as plt\n",
        "\n",
        "\n",
        "labels = ['0', '1', '2', '3', '4', '5', '6', '7', '8', '9']\n",
        "\n",
        "width = 0.35       # the width of the bars: can also be len(x) sequence\n",
        "\n",
        "fig, ax = plt.subplots(figsize = (10,10))\n",
        "\n",
        "ax.bar(labels, mean_class_acc_test, width, yerr=std_class_acc_test, label='MNIST Digits(Test)')\n",
        "\n",
        "ax.set_ylabel('Class-Wise Accuracies')\n",
        "ax.set_title('Class-Wise Test Accuracies for 5 runs (EPS = 0.517)')\n",
        "ax.legend()\n",
        "\n",
        "plt.show()"
      ],
      "execution_count": null,
      "outputs": [
        {
          "output_type": "display_data",
          "data": {
            "image/png": "[encoded data removed]",
            "text/plain": [
              "<Figure size 720x720 with 1 Axes>"
            ]
          },
          "metadata": {
            "tags": [],
            "needs_background": "light"
          }
        }
      ]
    },
    {
      "cell_type": "code",
      "metadata": {
        "id": "L-hQFXUc9cyN"
      },
      "source": [
        ""
      ],
      "execution_count": null,
      "outputs": []
    },
    {
      "cell_type": "code",
      "metadata": {
        "id": "UWDy8vKF82R1"
      },
      "source": [
        ""
      ],
      "execution_count": null,
      "outputs": []
    }
  ]
}